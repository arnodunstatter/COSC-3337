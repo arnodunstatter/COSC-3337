{
 "cells": [
  {
   "cell_type": "markdown",
   "id": "34155d06",
   "metadata": {},
   "source": [
    "# Task 2: An Intelligent Tool Which Compares Boxplots\n",
    "Develop a tool that compares 2 box plots and reports its findings as a story. The story summarizes the similarity of two input box plots  with respect to median, box location, IQR, maximum and minimum values that are no outlier (and maybe  also compares the reported outliers) and skewness; moreover, the tool summarizes the overall agreement / disagreement of the two boxplots.  "
   ]
  },
  {
   "cell_type": "code",
   "execution_count": 1,
   "id": "b6469f06",
   "metadata": {},
   "outputs": [],
   "source": [
    "import numpy as np\n",
    "import matplotlib.pyplot as plt"
   ]
  },
  {
   "cell_type": "code",
   "execution_count": 2,
   "id": "bf6b9fc1",
   "metadata": {},
   "outputs": [],
   "source": [
    "#Sample data to use for debugging\n",
    "x = np.array([1,2,2,2,4,4,8,9,9,10,20,30])\n",
    "y = np.array([1,2,2,2,4,4,8,9,9,10,11,12, 13,18,22,30])\n",
    "x_name, y_name = 'x', 'y'"
   ]
  },
  {
   "cell_type": "markdown",
   "id": "eb28590c",
   "metadata": {},
   "source": [
    "## First let's generate the boxplot visuals themselves"
   ]
  },
  {
   "cell_type": "code",
   "execution_count": 3,
   "id": "51e3ea56",
   "metadata": {},
   "outputs": [
    {
     "data": {
      "image/png": "[encoded data removed]",
      "text/plain": [
       "<Figure size 432x288 with 2 Axes>"
      ]
     },
     "metadata": {
      "needs_background": "light"
     },
     "output_type": "display_data"
    }
   ],
   "source": [
    "#now we generate our figure and boxplots therein\n",
    "fig, axs = plt.subplots(1,2, sharey = True) #the figure will be called \"fig\", and it has 1 row and 2 columns of subplots, accessible through the \"axs\" object\n",
    "\n",
    "#first boxplot\n",
    "xbp = axs[0].boxplot(x) #subplot 0 is a boxplot of the data stored in variable x\n",
    "axs[0].set_title(x_name) #sets the title of subplot0\n",
    "axs[0].set_xticks([]) #removes the ticks along the x axis of subplot 0\n",
    "\n",
    "#second boxplot\n",
    "ybp = axs[1].boxplot(y)\n",
    "axs[1].set_title(y_name)\n",
    "axs[1].set_xticks([])\n",
    "\n",
    "plt.show()"
   ]
  },
  {
   "cell_type": "markdown",
   "id": "c33a972c",
   "metadata": {},
   "source": [
    "We are told that:\n",
    "\"Basically, the input of the tool are the following values of each boxplot:\n",
    "\n",
    "Median1, median2:= median of each boxplot\n",
    "\n",
    "75perc1,75perc2:= 75% percentile value of each boxplot\n",
    "\n",
    "25perc1,25perc2:= 25% percentile value of each boxplot\n",
    "\n",
    "max1, max2:= maximum value in each dataset from which the box plot was created which is not an outlier\n",
    "\n",
    "min1, min2:= minimum value in each dataset from which the box plot was created which is not an outlier\"\n",
    "\n",
    "\n",
    "\n",
    "Let's format these into python variable names:\n",
    "\n",
    "xMed, yMed - medians \n",
    "\n",
    "x75, y75 - 75th perentiles\n",
    "\n",
    "x25, y25 - 25th percentiles\n",
    "\n",
    "xMaxW, yMaxW - maximum values in each dataset from which the box plot was created, which is not an outlier\n",
    "\n",
    "xMinW, yMinW - minimum values in each dataset from which the box plot was created, which is not an outlier"
   ]
  },
  {
   "cell_type": "code",
   "execution_count": 4,
   "id": "6b5981e4",
   "metadata": {},
   "outputs": [],
   "source": [
    "#lets get our variables from our data\n",
    "xMed, yMed = np.median(x), np.median(y)\n",
    "x75, y75 = np.percentile(x, 75), np.percentile(y, 75)\n",
    "x25, y25 = np.percentile(x, 25), np.percentile(y, 25)\n",
    "#let's also compute our IQRs\n",
    "xIQR, yIQR = x75 - x25, y75 - y25"
   ]
  },
  {
   "cell_type": "code",
   "execution_count": 5,
   "id": "852f7817",
   "metadata": {},
   "outputs": [],
   "source": [
    "#to get our max and min whisker values, lets define a function\n",
    "def whisker(data, which, whis = 1.5): # whisker, data = array, which = \"upper\" or \"lower\"\n",
    "    #some conserved variables we'll use in either case\n",
    "    IQR = np.percentile(data,75)-np.percentile(data,25)\n",
    "    toReturn = data[0] #the value we'll eventually return\n",
    "    \n",
    "    if which == \"upper\":\n",
    "        q3 = np.percentile(data,75)\n",
    "        limit = min(max(data), q3+whis*IQR)\n",
    "        for i in data: #find largest value less than or equal to the limit\n",
    "            if i > toReturn and i <= limit:\n",
    "                    toReturn = i\n",
    "    elif which == \"lower\":\n",
    "        q1 = np.percentile(data,25)\n",
    "        limit = max(min(data), q1-whis*IQR)\n",
    "        for i in data: #find the smallest value greater than or equal to the limit\n",
    "            if i < toReturn and i >= limit:\n",
    "                toReturn = i\n",
    "                \n",
    "    return toReturn\n"
   ]
  },
  {
   "cell_type": "code",
   "execution_count": 6,
   "id": "abe3654a",
   "metadata": {},
   "outputs": [],
   "source": [
    "#now we'll use whisker to get xMax,yMax, xMin, yMin\n",
    "xMaxW, yMaxW = whisker(x,\"upper\"), whisker(y, \"upper\")\n",
    "xMinW, yMinW = whisker(x, \"lower\"), whisker(y, \"lower\")"
   ]
  },
  {
   "cell_type": "markdown",
   "id": "0db30fe4",
   "metadata": {},
   "source": [
    "`Note: The code above will be reused inside of function definitions below.`"
   ]
  },
  {
   "cell_type": "markdown",
   "id": "6902ed58",
   "metadata": {},
   "source": [
    "Now we have all our variables.\n",
    "***\n",
    "\n",
    "## Next we will begin to perform comparisons.\n",
    "\n",
    "### Comparing Medians\n",
    "First we will compare medians using the following formula:\n",
    "\n",
    "$medianComparisonValue = \\frac{|xMedian - yMedian|}{\\frac{xIQR + yIQR}{2}}$\n",
    "\n",
    "then we will map that value to an Engilsh description term or phrase."
   ]
  },
  {
   "cell_type": "code",
   "execution_count": 7,
   "id": "1a05252f",
   "metadata": {},
   "outputs": [],
   "source": [
    "def compareMedians(x,y):\n",
    "    #lets get our variables from our data\n",
    "    xMed, yMed = np.median(x), np.median(y)\n",
    "    x75, y75 = np.percentile(x, 75), np.percentile(y, 75)\n",
    "    x25, y25 = np.percentile(x, 25), np.percentile(y, 25)\n",
    "    #let's also compute our IQRs\n",
    "    xIQR, yIQR = x75 - x25, y75 - y25\n",
    "    medCompVal = abs(xMed - yMed)/((xIQR+yIQR)/2) #compute comparison value\n",
    "    #now we map it to an English description term/phrase to return\n",
    "    if medCompVal <= 0.1:\n",
    "        return \"more or less the same\"\n",
    "    elif medCompVal <= 0.25:\n",
    "        return \"somewhat similar\"\n",
    "    elif medCompVal <= 1:\n",
    "        return \"different\"\n",
    "    else: #medCompVal > 1\n",
    "        return \"very differnt\""
   ]
  },
  {
   "cell_type": "markdown",
   "id": "7198705f",
   "metadata": {},
   "source": [
    "### Comparing IQRs\n",
    "We compare IQRs by computing the proportion of the union of the two IQRs taken up by the intersection of the two IQRs. This looks something like this:\n",
    "\n",
    "$IQRcomparisonValue = \\frac{min(max(x75 - y25, 0), max(y75 - x25,0))}{max(|x75 - y25|, |y75 - x25|)}$\n",
    "\n",
    "then we will map that value to an English description term or phrase."
   ]
  },
  {
   "cell_type": "code",
   "execution_count": 8,
   "id": "dac203da",
   "metadata": {},
   "outputs": [],
   "source": [
    "def compareIQRs(x,y):\n",
    "    #lets get our variables from our data\n",
    "    x75, y75 = np.percentile(x, 75), np.percentile(y, 75)\n",
    "    x25, y25 = np.percentile(x, 25), np.percentile(y, 25)\n",
    "    IQRcompVal = min(max(x75 - y25, 0), max(y75 - x25,0))/max(abs(x75 - y25), abs(y75 - x25)) #compute comparison value\n",
    "    #now we map it to an English description term/phrase to return\n",
    "    if IQRcompVal >= 0.9:\n",
    "        return \"are almost the same\"\n",
    "    elif IQRcompVal >= 0.75:\n",
    "        return \"are quite similar\"\n",
    "    elif IQRcompVal >= 0.25:\n",
    "        return \"have medium overlap\"\n",
    "    elif IQRcompVal >= 0.1:\n",
    "        return \"are dissimilar\"\n",
    "    else: #IQRcompVal < 0.1\n",
    "        return \"are very dissimilar\"\n"
   ]
  },
  {
   "cell_type": "markdown",
   "id": "9585cb28",
   "metadata": {},
   "source": [
    "### Comparing Whisker Intervals\n",
    "We compare whisker intervals by computing the proporiton of the union of the two whisker intervals taken up by the intersetion of the two whisker intervals. This looks something like this:\n",
    "\n",
    "$WIcomparisonValue = \\frac{min(max(xMaxW - yMinW, 0), max(yMaxW - xMinW,0))}{max(|xMaxW - yMinW|, |yMaxW - xMinW|)}$\n",
    "\n",
    "then we will map that value to an English description term or phrase."
   ]
  },
  {
   "cell_type": "code",
   "execution_count": 9,
   "id": "0d10b248",
   "metadata": {},
   "outputs": [],
   "source": [
    "def compareWhiskers(x,y):\n",
    "    #now we'll use whisker to get xMax,yMax, xMin, yMin\n",
    "    xMaxW, yMaxW = whisker(x,\"upper\"), whisker(y, \"upper\")\n",
    "    xMinW, yMinW = whisker(x, \"lower\"), whisker(y, \"lower\")\n",
    "    WIcompVal = min(max(xMaxW - yMinW, 0), max(yMaxW - xMinW,0))/max(abs(xMaxW - yMinW), abs(yMaxW - xMinW)) #compute comparison value\n",
    "    #now we map it to an English description term/phrase to return\n",
    "    WIcompDesc = \"\" #description term/phrase\n",
    "    if WIcompVal >= 0.9:\n",
    "        return \"are almost the same\"\n",
    "    elif WIcompVal >= 75:\n",
    "        return \"are quite similar\"\n",
    "    elif WIcompVal >= 25:\n",
    "        return \"have medium overlap\"\n",
    "    elif WIcompVal >= 0.1:\n",
    "        return \"are dissimilar\"\n",
    "    else: #WIcompVal < 0.1\n",
    "        return \"are very dissimilar\"\n",
    "    "
   ]
  },
  {
   "cell_type": "markdown",
   "id": "47f7ff32",
   "metadata": {},
   "source": [
    "### Assessing the skewness of each boxplot\n",
    "We assess the position of each median within its respective IQR by computing the following:\n",
    "\n",
    "$skewness = \\frac{median - q1}{IQR}$\n",
    "\n",
    "then we will map that value to an English description term or phrase."
   ]
  },
  {
   "cell_type": "code",
   "execution_count": 10,
   "id": "c3531d0f",
   "metadata": {},
   "outputs": [],
   "source": [
    "#lets define a function to do the mapping for us, since we'll have to do it twice anyway\n",
    "def describeSkewness(data):\n",
    "    median = np.median(data)\n",
    "    q3 = np.percentile(data, 75)\n",
    "    q1 = np.percentile(data, 25)\n",
    "    IQR = q3 - q1\n",
    "    skewness = (median - q1)/IQR\n",
    "    #now we map it to an English description term/phrase to return\n",
    "    if skewness >= 0.8: # [0.8,1]\n",
    "        return \"very negative\"\n",
    "    elif skewness >= 0.6: # [0.6,0.8)\n",
    "        return \"negative\"\n",
    "    elif skewness >= 0.525: # [0.525,0.6)\n",
    "        return \"slightly negative\"\n",
    "    elif skewness > 0.475: # (0.475,0.525)\n",
    "        return \"symmetric\"\n",
    "    elif skewness > 0.4: # (0.4, 0.475]\n",
    "        return \"slightly positive\"\n",
    "    elif skewness > 0.2: # (0.2, 0.4]\n",
    "        return \"positive\"\n",
    "    else:\n",
    "        return \"very positive\"\n",
    "        "
   ]
  },
  {
   "cell_type": "markdown",
   "id": "f31dbdc4",
   "metadata": {},
   "source": [
    "### Assessing Outliers\n",
    "To compare outliers we will produce two sets of outliers for each boxplot: lowerOutliers and upperOutliers, and then return them as a numpy array. "
   ]
  },
  {
   "cell_type": "code",
   "execution_count": 11,
   "id": "df2d577d",
   "metadata": {},
   "outputs": [],
   "source": [
    "#need to produce lowerOutliers and upperOutliers for each boxplot, so let's make a function\n",
    "def outliers(data):\n",
    "    #let's figure out the lowerOutliers first\n",
    "    lowerOutliers = np.array([]) #empty at first\n",
    "    lowerWhisker = whisker(data,\"lower\")\n",
    "    for i in data:\n",
    "        if i < lowerWhisker:\n",
    "            lowerOutliers = np.append(lowerOutliers, i)\n",
    "    #now let's do upperOutliers\n",
    "    upperOutliers = np.array([])\n",
    "    upperWhisker = whisker(data,\"upper\")\n",
    "    for i in data:\n",
    "        if i > upperWhisker:\n",
    "            upperOutliers = np.append(upperOutliers, i)\n",
    "    return np.array([lowerOutliers,upperOutliers], dtype=object)\n"
   ]
  },
  {
   "cell_type": "markdown",
   "id": "62bcdca2",
   "metadata": {},
   "source": [
    "To describe the outliers we will make note of the counts of each data set's lower and upper outliers. Depending on those counts we will compare the outiers of one boxplot to the outliers of the other.\n"
   ]
  },
  {
   "cell_type": "code",
   "execution_count": 12,
   "id": "c6763d93",
   "metadata": {},
   "outputs": [],
   "source": [
    "def describeOutliers(x,y):\n",
    "    #this portion will produce a string which describes the outliers\n",
    "    outlierDesc = \"\"\n",
    "    #now we make out collections of outliers\n",
    "    xOutliers, yOutliers = outliers(x), outliers(y)\n",
    "    #now we need to count each\n",
    "    xNumLow = len(xOutliers[0])\n",
    "    yNumLow = len(yOutliers[0])\n",
    "    xNumUpp = len(xOutliers[1])\n",
    "    yNumUpp = len(yOutliers[1])\n",
    "\n",
    "    outlierDesc += \"There are \" + str(xNumLow) + \" lower outliers and \" + str(xNumUpp) + \" upper outliers for the first boxplot, \"\\\n",
    "        + \"while the second boxplot has \" + str(yNumLow) + \" lower outliers and \" + str(yNumUpp) + \" upper outliers.\\n\"\n",
    "\n",
    "    #compare lower outliers\n",
    "    if xNumLow > 0 and yNumLow > 0: #can only compare if they're non-zero\n",
    "        xLowHigh = max(xOutliers[0])\n",
    "        xLowLow = min(xOutliers[0])\n",
    "        yLowHigh = max(yOutliers[0])\n",
    "        yLowLow = min(yOutliers[0])\n",
    "        #both have multiple lower outliers\n",
    "        if xNumLow > 1 and yNumLow > 1: #calculate % of their overlap\n",
    "            overlapPercent = 100*min(max(xLowHigh-yLowLow, 0),max(yLowHigh-xLowLow, 0))/max(xLowHigh-yLowLow, yLowHigh-xLowLow)\n",
    "            outlierDesc += \"The lower outliers overlap \" + str(round(overlapPercent,2)) +\"%.\"\n",
    "        #x has multiple lower outliers but y has only 1\n",
    "        elif xNumLow > 1 and yNumLow == 1: #see if the outlier falls in the range of the others\n",
    "            yLowerOutlier = yOutliers[0][0]\n",
    "            outlierDesc += \"The second boxplot's only lower outlier \"\n",
    "            if xLowLow <= yLowerOutlier and yLowerOutlier <= xLowHigh:\n",
    "                outlierDesc += \"falls \"\n",
    "            else:\n",
    "                outlierDesc += \"doesn't fall \"\n",
    "            outlierDesc += \"within the first boxplot's lower outliers' range.\\n\"\n",
    "        #x has only 1 outlier, but y has multiple\n",
    "        elif xNumLow == 1 and yNumLow > 1:\n",
    "            xLowerOutlier = xOutliers[0][0]\n",
    "            outlierDesc += \"The first boxplot's only lower outlier \"\n",
    "            if yLowLow <= xLowerOutlier and xLowerOutlier <= yLowHigh:\n",
    "                outlierDesc += \"falls \"\n",
    "            else:\n",
    "                outlierDesc += \"doesn't fall \"\n",
    "            outlierDesc += \"within the second boxplot's lower outliers' range.\\n\"         \n",
    "        #they both have only 1 lower outlier\n",
    "        else: #xNumLow == 1 and yNumLow == 1\n",
    "            #they're the same value\n",
    "            if xOutliers[0][0] == yOutliers[0][0]:\n",
    "                outlierDesc += \"Both have the same lower outlier.\\n\"\n",
    "            #both are in 1 std of each other\n",
    "            elif (yOutliers[0][0] < xOutliers[0][0] + np.std(x) or yOutliers[0][0] > xOutliers[0][0] - np.std(x)) and \\\n",
    "            (xOutliers[0][0] < yOutliers[0][0] + np.std(y) or xOutliers[0][0] > yOutliers[0][0] - np.std(y)):\n",
    "                outlierDesc += \"Both lower outliers fall within one of each others' standard deviation.\\n\"\n",
    "            #the first's is within 1 std of the second's\n",
    "            elif (xOutliers[0][0] < yOutliers[0][0] + np.std(y) or xOutliers[0][0] > yOutliers[0][0] - np.std(y)):\n",
    "                outlierDesc += \"The first boxplot's only lower outlier is within a single standard deviation of the second boxplot's\"\\\n",
    "                    + \" only lower outlier, but the second boxplot's only lower outlier is not within a single standard deviation \"\\\n",
    "                    + \"of the first boxplot's only lower outlier.\\n\"\n",
    "            #the second's is within 1 std of the first's\n",
    "            elif (yOutliers[0][0] < xOutliers[0][0] + np.std(x) or yOutliers[0][0] > xOutliers[0][0] - np.std(x)):\n",
    "                outlierDesc += \"The second boxplot's only lower outlier is within a single standard deviation of the first boxplot's\"\\\n",
    "                    + \" only lower outlier, but the first boxplot's only lower outlier is not within a single standard deviation \"\\\n",
    "                    + \"of the second boxplot's only lower outlier.\\n\"\n",
    "            #neither are within a std of the other\n",
    "            else:\n",
    "                outlierDesc += \"Neither lower outlier is within a standard deviation of the other's.\\n\"\n",
    "        \n",
    "    #compare upper outliers\n",
    "    if xNumUpp > 0 and yNumUpp > 0: #can only compare if they're non-zero\n",
    "        xUppHigh = max(xOutliers[1])\n",
    "        xUppLow = min(xOutliers[1])\n",
    "        yUppHigh = max(yOutliers[1])\n",
    "        yUppLow = min(yOutliers[1])\n",
    "        #both have multiple upper outliers\n",
    "        if xNumUpp > 1 and yNumUpp > 1: #calculate % of their overlap\n",
    "            overlapPercent = 100*min(max(xUppHigh-yUppLow, 0),max(yUppHigh-xUppLow, 0))/max(xUppHigh-yUppLow, yUppHigh-xUppLow)\n",
    "            outlierDesc += \"The upper outliers overlap \" + str(round(overlapPercent,2)) +\"%.\"\n",
    "        #x has multiple upper outliers but y has only 1\n",
    "        elif xNumUpp > 1 and yNumUpp == 1: #see if the outlier falls in the range of the other's\n",
    "            yUpperOutlier = yOutliers[1][0]\n",
    "            outlierDesc += \"The second boxplot's only upper outlier \"\n",
    "            if xUppLow <= yUpperOutlier and yUpperOutlier <= xUppHigh:\n",
    "                outlierDesc += \"falls \"\n",
    "            else:\n",
    "                outlierDesc += \"doesn't fall \"\n",
    "            outlierDesc += \"within the first boxplot's upper outliers' range.\\n\"\n",
    "        #x has only 1 outlier, but y has multiple\n",
    "        elif xNumUpp == 1 and yNumUpp > 1:\n",
    "            xUpperOutlier = xOutliers[1][0]\n",
    "            outlierDesc += \"The first boxplot's only upper outlier \"\n",
    "            if yUppLow <= xUpperOutlier and xUpperOutlier <= yUppHigh:\n",
    "                outlierDesc += \"falls \"\n",
    "            else:\n",
    "                outlierDesc += \"doesn't fall \"\n",
    "            outlierDesc += \"within the second boxplot's upper outliers' range.\\n\"         \n",
    "        #they both have only 1 upper outlier\n",
    "        else: #xNumUpp == 1 and yNumUpp == 1\n",
    "            #they're the same value\n",
    "            if xOutliers[1][0] == yOutliers[1][0]:\n",
    "                outlierDesc += \"Both have the same upper outlier.\\n\"\n",
    "            #both are in 1 std of each other\n",
    "            elif (yOutliers[1][0] < xOutliers[1][0] + np.std(x) or yOutliers[1][0] > xOutliers[1][0] - np.std(x)) and \\\n",
    "            (xOutliers[1][0] < yOutliers[1][0] + np.std(y) or xOutliers[1][0] > yOutliers[1][0] - np.std(y)):\n",
    "                outlierDesc += \"Both upper outliers fall within one of each others' standard deviation.\\n\"\n",
    "            #the first's is within 1 std of the second's\n",
    "            elif (xOutliers[1][0] < yOutliers[1][0] + np.std(y) or xOutliers[1][0] > yOutliers[1][0] - np.std(y)):\n",
    "                outlierDesc += \"The first boxplot's only upper outlier is within a single standard deviation of the second boxplot's\"\\\n",
    "                    + \" only upper outlier, but the second boxplot's only upper outlier is not within a single standard deviation \"\\\n",
    "                    + \"of the first boxplot's only upper outlier.\\n\"\n",
    "            #the second's is within 1 std of the first's\n",
    "            elif (yOutliers[1][0] < xOutliers[1][0] + np.std(x) or yOutliers[1][0] > xOutliers[1][0] - np.std(x)):\n",
    "                outlierDesc += \"The second boxplot's only upper outlier is within a single standard deviation of the first boxplot's\"\\\n",
    "                    + \" only upper outlier, but the first boxplot's only upper outlier is not within a single standard deviation \"\\\n",
    "                    + \"of the second boxplot's only upper outlier.\\n\"\n",
    "            #neither are within a std of the other\n",
    "            else:\n",
    "                outlierDesc += \"Neither upper outlier is within a standard deviation of the other's.\\n\"\n",
    "\n",
    "    return outlierDesc"
   ]
  },
  {
   "cell_type": "markdown",
   "id": "5be424fe",
   "metadata": {},
   "source": [
    "## Let's make the tool\n",
    "Now we will package everything above into one function!"
   ]
  },
  {
   "cell_type": "code",
   "execution_count": 13,
   "id": "133bbc2b",
   "metadata": {},
   "outputs": [
    {
     "data": {
      "image/png": "[encoded data removed]",
      "text/plain": [
       "<Figure size 432x288 with 2 Axes>"
      ]
     },
     "metadata": {
      "needs_background": "light"
     },
     "output_type": "display_data"
    },
    {
     "name": "stdout",
     "output_type": "stream",
     "text": [
      "\u001b[1mBasic stats for x:\n",
      "\u001b[0mUpper Whisker: 20\n",
      "Q3: 9.25\n",
      "Median: 6.0\n",
      "Q1: 2.0\n",
      "IQR: 7.25\n",
      "Lower Whisker: 1\n",
      "\n",
      "\u001b[1mBasic stats for y:\n",
      "\u001b[0mUpper Whisker: 22\n",
      "Q3: 12.25\n",
      "Median: 9.0\n",
      "Q1: 3.5\n",
      "IQR: 8.75\n",
      "Lower Whisker: 1\n",
      "\n",
      "\u001b[1m\n",
      "Summary:\n",
      "\u001b[0mThe medians are different.\n",
      "The two IQRs have medium overlap.\n",
      "The two whisker intervals are almost the same.\n",
      "The skewness of x is slightly negative, while the skewness of y is negative.\n",
      "There are 0 lower outliers and 1 upper outliers for the first boxplot, while the second boxplot has 0 lower outliers and 1 upper outliers.\n",
      "Both have the same upper outlier.\n",
      "\n"
     ]
    }
   ],
   "source": [
    "def compareBoxplots(x, x_name, y, y_name):\n",
    "    #first it will produce the boxplots\n",
    "    #now we generate our figure and boxplots therein\n",
    "    fig, axs = plt.subplots(1,2, sharey = True) #the figure will be called \"fig\", and 2 axs\n",
    "    #first boxplot\n",
    "    xbp = axs[0].boxplot(x) #subplot 0 is a boxplot of the data stored in variable x\n",
    "    axs[0].set_title(x_name) #sets the title of subplot0\n",
    "    axs[0].set_xticks([]) #removes the ticks along the x axis of subplot 0\n",
    "    #second boxplot\n",
    "    ybp = axs[1].boxplot(y)\n",
    "    axs[1].set_title(y_name)\n",
    "    axs[1].set_xticks([])\n",
    "    plt.show()\n",
    "    \n",
    "    #lets get our variables from our data\n",
    "    xMed, yMed = np.median(x), np.median(y)\n",
    "    x75, y75 = np.percentile(x, 75), np.percentile(y, 75)\n",
    "    x25, y25 = np.percentile(x, 25), np.percentile(y, 25)\n",
    "    #let's also compute our IQRs\n",
    "    xIQR, yIQR = x75 - x25, y75 - y25\n",
    "    #now we'll use whisker to get xMax,yMax, xMin, yMin\n",
    "    xMaxW, yMaxW = whisker(x,\"upper\"), whisker(y, \"upper\")\n",
    "    xMinW, yMinW = whisker(x, \"lower\"), whisker(y, \"lower\")\n",
    "    #now we print all this info\n",
    "    #first for x\n",
    "    print(\"\\033[1m\" + \"Basic stats for \" + x_name + \":\")\n",
    "    print(\"\\033[0m\" + \"Upper Whisker:\", xMaxW)\n",
    "    print(\"Q3:\", x75)\n",
    "    print(\"Median:\", xMed)\n",
    "    print(\"Q1:\", x25)\n",
    "    print(\"IQR:\",xIQR)\n",
    "    print(\"Lower Whisker: \" + str(xMinW) + \"\\n\")\n",
    "    #now for y\n",
    "    print(\"\\033[1m\" + \"Basic stats for \" + y_name + \":\")\n",
    "    print(\"\\033[0m\" + \"Upper Whisker:\", yMaxW)\n",
    "    print(\"Q3:\", y75)\n",
    "    print(\"Median:\", yMed)\n",
    "    print(\"Q1:\", y25)\n",
    "    print(\"IQR:\",yIQR)\n",
    "    print(\"Lower Whisker: \" + str(yMinW) + \"\\n\")\n",
    "    \n",
    "    print(\"\\033[1m\" + \"\\nSummary:\")    \n",
    "    #now we compare medians\n",
    "    print(\"\\033[0m\" + \"The medians are \", compareMedians(x,y), \".\", sep = \"\")\n",
    "    \n",
    "    #now we compare IQRs\n",
    "    print(\"The two IQRs \", compareIQRs(x,y), \".\", sep = \"\")\n",
    "    \n",
    "    #now we compare whisker intervals\n",
    "    print(\"The two whisker intervals \", compareWhiskers(x,y), \".\", sep = \"\")\n",
    "    \n",
    "    #now we describe skewness\n",
    "    xSkewness, ySkewness = describeSkewness(x), describeSkewness(y)\n",
    "    if xSkewness == ySkewness:\n",
    "        print(\"Both x and y have a skewness which is \", xSkewness, \".\", sep = \"\")\n",
    "    else:\n",
    "        print(\"The skewness of x is \", xSkewness, \", while the skewness of y is \", ySkewness, \".\", sep = \"\")\n",
    "        \n",
    "    #now we describe outliers\n",
    "    print(describeOutliers(x,y))\n",
    "    \n",
    "    \n",
    "compareBoxplots(x,x_name,y,y_name)"
   ]
  },
  {
   "cell_type": "markdown",
   "id": "28f7338b",
   "metadata": {},
   "source": [
    "## Using the tool on the three example data sets\n",
    "\n",
    "### Data Set 1:"
   ]
  },
  {
   "cell_type": "code",
   "execution_count": 14,
   "id": "049909e4",
   "metadata": {},
   "outputs": [
    {
     "data": {
      "image/png": "[encoded data removed]",
      "text/plain": [
       "<Figure size 432x288 with 2 Axes>"
      ]
     },
     "metadata": {
      "needs_background": "light"
     },
     "output_type": "display_data"
    },
    {
     "name": "stdout",
     "output_type": "stream",
     "text": [
      "\u001b[1mBasic stats for L1:\n",
      "\u001b[0mUpper Whisker: 149\n",
      "Q3: 75.75\n",
      "Median: 44.0\n",
      "Q1: 23.25\n",
      "IQR: 52.5\n",
      "Lower Whisker: 3\n",
      "\n",
      "\u001b[1mBasic stats for L2:\n",
      "\u001b[0mUpper Whisker: 99\n",
      "Q3: 83.75\n",
      "Median: 50.5\n",
      "Q1: 24.5\n",
      "IQR: 59.25\n",
      "Lower Whisker: 0\n",
      "\n",
      "\u001b[1m\n",
      "Summary:\n",
      "\u001b[0mThe medians are somewhat similar.\n",
      "The two IQRs are quite similar.\n",
      "The two whisker intervals are dissimilar.\n",
      "The skewness of x is positive, while the skewness of y is slightly positive.\n",
      "There are 0 lower outliers and 1 upper outliers for the first boxplot, while the second boxplot has 0 lower outliers and 0 upper outliers.\n",
      "\n"
     ]
    }
   ],
   "source": [
    "L1 =  [18,  58,  22,  50,  44,  64,  68,  10,  58,   6,  82,  42,  39,  26,  18,  44,  80,  26,  59,  35,  20, 81,  23,  77,  18,  72,  24,  3,  30,  81, 189, 149, 109, 139]\n",
    "L2 = [58, 98, 90, 93, 55, 14, 15, 94, 33, 84, 26, 29, 98, 22, 24, 47, 52, 51, 71, 48, 83, 15, 0, 50, 99, 20, 21, 85, 57, 49]\n",
    "compareBoxplots(L1, \"L1\", L2, \"L2\")"
   ]
  },
  {
   "cell_type": "markdown",
   "id": "4bc8ccfb",
   "metadata": {},
   "source": [
    "### Data Set 2:"
   ]
  },
  {
   "cell_type": "code",
   "execution_count": 15,
   "id": "f3a56c0c",
   "metadata": {},
   "outputs": [
    {
     "data": {
      "image/png": "[encoded data removed]",
      "text/plain": [
       "<Figure size 432x288 with 2 Axes>"
      ]
     },
     "metadata": {
      "needs_background": "light"
     },
     "output_type": "display_data"
    },
    {
     "name": "stdout",
     "output_type": "stream",
     "text": [
      "\u001b[1mBasic stats for class1:\n",
      "\u001b[0mUpper Whisker: 82\n",
      "Q3: 58.25\n",
      "Median: 43.0\n",
      "Q1: 25.0\n",
      "IQR: 33.25\n",
      "Lower Whisker: 6\n",
      "\n",
      "\u001b[1mBasic stats for class2:\n",
      "\u001b[0mUpper Whisker: 98\n",
      "Q3: 85.5\n",
      "Median: 51.5\n",
      "Q1: 28.25\n",
      "IQR: 57.25\n",
      "Lower Whisker: 14\n",
      "\n",
      "\u001b[1m\n",
      "Summary:\n",
      "\u001b[0mThe medians are somewhat similar.\n",
      "The two IQRs have medium overlap.\n",
      "The two whisker intervals are dissimilar.\n",
      "The skewness of x is slightly negative, while the skewness of y is slightly positive.\n",
      "There are 0 lower outliers and 0 upper outliers for the first boxplot, while the second boxplot has 0 lower outliers and 0 upper outliers.\n",
      "\n"
     ]
    }
   ],
   "source": [
    "class1 = [18, 58, 22, 50, 44, 64, 68, 10, 58, 6, 82, 42, 39, 26, 18, 44, 80, 26, 59, 35]\n",
    "class2 = [58, 98, 90, 93, 55, 14, 15, 94, 33, 84, 26, 29, 98, 22, 24, 47, 52, 51, 71, 48]\n",
    "compareBoxplots(class1, \"class1\", class2, \"class2\")\n"
   ]
  },
  {
   "cell_type": "markdown",
   "id": "275343c1",
   "metadata": {},
   "source": [
    "### Data Set 3:"
   ]
  },
  {
   "cell_type": "code",
   "execution_count": 16,
   "id": "54889f4f",
   "metadata": {},
   "outputs": [
    {
     "data": {
      "image/png": "[encoded data removed]",
      "text/plain": [
       "<Figure size 432x288 with 2 Axes>"
      ]
     },
     "metadata": {
      "needs_background": "light"
     },
     "output_type": "display_data"
    },
    {
     "name": "stdout",
     "output_type": "stream",
     "text": [
      "\u001b[1mBasic stats for Dallas:\n",
      "\u001b[0mUpper Whisker: 64\n",
      "Q3: 58.0\n",
      "Median: 29.0\n",
      "Q1: 18.0\n",
      "IQR: 40.0\n",
      "Lower Whisker: 6\n",
      "\n",
      "\u001b[1mBasic stats for Houston:\n",
      "\u001b[0mUpper Whisker: 180\n",
      "Q3: 160.0\n",
      "Median: 142.0\n",
      "Q1: 131.25\n",
      "IQR: 28.75\n",
      "Lower Whisker: 125\n",
      "\n",
      "\u001b[1m\n",
      "Summary:\n",
      "\u001b[0mThe medians are very differnt.\n",
      "The two IQRs are very dissimilar.\n",
      "The two whisker intervals are very dissimilar.\n",
      "Both x and y have a skewness which is positive.\n",
      "There are 0 lower outliers and 2 upper outliers for the first boxplot, while the second boxplot has 3 lower outliers and 0 upper outliers.\n",
      "\n"
     ]
    }
   ],
   "source": [
    "Dallas = [18, 58, 22, 50, 44, 64, 14, 15, 58, 6, 26, 29, 26, 18, 44, 178, 170]\n",
    "Houston = [149, 180, 165, 166, 147, 171, 154, 125, 136, 162, 141, 139, 131, 132, 143, 11, 34, 18]\n",
    "compareBoxplots(Dallas, \"Dallas\", Houston, \"Houston\")"
   ]
  }
 ],
 "metadata": {
  "kernelspec": {
   "display_name": "Python 3",
   "language": "python",
   "name": "python3"
  },
  "language_info": {
   "codemirror_mode": {
    "name": "ipython",
    "version": 3
   },
   "file_extension": ".py",
   "mimetype": "text/x-python",
   "name": "python",
   "nbconvert_exporter": "python",
   "pygments_lexer": "ipython3",
   "version": "3.8.8"
  }
 },
 "nbformat": 4,
 "nbformat_minor": 5
}
