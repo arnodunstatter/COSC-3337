{
 "cells": [
  {
   "cell_type": "markdown",
   "metadata": {
    "id": "k6l9TbEgLPM4"
   },
   "source": [
    "In this task, we will learn how to find the hyperparameters in a neural network setting. We will use MNIST dataset, which is a handwritten digit recognition dataset. More on MNIST: http://yann.lecun.com/exdb/mnist/\n"
   ]
  },
  {
   "cell_type": "markdown",
   "metadata": {
    "id": "wz8ngTcda-Hx"
   },
   "source": [
    "## **Set Up**\n"
   ]
  },
  {
   "cell_type": "markdown",
   "metadata": {
    "id": "s7gIuluO_kEH"
   },
   "source": [
    "###**Imports**"
   ]
  },
  {
   "cell_type": "code",
   "execution_count": 1,
   "metadata": {
    "id": "-yFbTzxIJ4Zp"
   },
   "outputs": [],
   "source": [
    "import matplotlib.pyplot as plt\n",
    "%matplotlib inline\n",
    "import random\n",
    "import tensorflow as tf\n",
    "from keras.datasets import mnist\n",
    "import pandas as pd\n",
    "import numpy as np\n",
    "#from keras.utils import to_categorical\n",
    "from tensorflow.keras.utils import to_categorical\n",
    "from keras.layers import Dense \n",
    "from keras.models import Sequential \n",
    "from numpy.random import seed\n",
    "from keras.layers import Dropout\n",
    "from keras import initializers"
   ]
  },
  {
   "cell_type": "markdown",
   "metadata": {
    "id": "NMpuK6e4_nb4"
   },
   "source": [
    "###**mount our drive and define: save() and load()**"
   ]
  },
  {
   "cell_type": "code",
   "execution_count": 78,
   "metadata": {
    "colab": {
     "base_uri": "https://localhost:8080/"
    },
    "id": "4UEhSoge5Ztw",
    "outputId": "628ea5c8-27ad-4123-e08e-f72ce46bd8eb"
   },
   "outputs": [
    {
     "name": "stdout",
     "output_type": "stream",
     "text": [
      "Drive already mounted at /content/drive; to attempt to forcibly remount, call drive.mount(\"/content/drive\", force_remount=True).\n"
     ]
    }
   ],
   "source": [
    "#this is so we can save our ACCs and reload them later\n",
    "from google.colab import drive\n",
    "drive.mount('/content/drive')\n",
    "\n",
    "def save(fileName, data):\n",
    "  %cd /content/drive/MyDrive/'1 BS in CS'/'Semester 5 (Fall 2021)'/'3337 Data Science'/'Task 3'\n",
    "  np.savetxt(fileName, data, delimiter=',', fmt='% s')\n",
    "  !ls\n",
    "def load(filename):\n",
    "  %cd /content/drive/MyDrive/'1 BS in CS'/'Semester 5 (Fall 2021)'/'3337 Data Science'/'Task 3'\n",
    "  return np.genfromtxt(filename, delimiter=',')\n"
   ]
  },
  {
   "cell_type": "markdown",
   "metadata": {
    "id": "OLvtoBo5_95k"
   },
   "source": [
    "###**Loading raw data and preprocessing**\n"
   ]
  },
  {
   "cell_type": "markdown",
   "metadata": {
    "id": "fYYTsl7jLWC3"
   },
   "source": [
    "MNIST handwritten digit recognition dataset\n",
    "\n",
    "if from keras.utils import to_categorical does not work, use from tensorflow.keras.utils import to_categorical"
   ]
  },
  {
   "cell_type": "code",
   "execution_count": 3,
   "metadata": {
    "colab": {
     "base_uri": "https://localhost:8080/"
    },
    "id": "ci7jUy5WLT8E",
    "outputId": "918ed9d4-fa7e-409f-bf5d-d44a50ad4c36"
   },
   "outputs": [
    {
     "name": "stdout",
     "output_type": "stream",
     "text": [
      "Downloading data from https://storage.googleapis.com/tensorflow/tf-keras-datasets/mnist.npz\n",
      "11493376/11490434 [==============================] - 0s 0us/step\n",
      "11501568/11490434 [==============================] - 0s 0us/step\n"
     ]
    }
   ],
   "source": [
    "#Fortunately Keras already have this dataset on its server. Let's load the dataset\n",
    "(x_train, y_train), (x_test, y_test) = mnist.load_data()"
   ]
  },
  {
   "cell_type": "code",
   "execution_count": 4,
   "metadata": {
    "colab": {
     "base_uri": "https://localhost:8080/"
    },
    "id": "jKivWOHqLcE4",
    "outputId": "51befc6b-281a-4c7c-8391-5b0d188e90ba"
   },
   "outputs": [
    {
     "data": {
      "text/plain": [
       "(60000, 28, 28)"
      ]
     },
     "execution_count": 4,
     "metadata": {},
     "output_type": "execute_result"
    }
   ],
   "source": [
    "x_train.shape"
   ]
  },
  {
   "cell_type": "code",
   "execution_count": 5,
   "metadata": {
    "colab": {
     "base_uri": "https://localhost:8080/"
    },
    "id": "KeYRN-jGLfBh",
    "outputId": "0380a07b-87d9-4882-b988-9a7978506e6a"
   },
   "outputs": [
    {
     "data": {
      "text/plain": [
       "(10000, 28, 28)"
      ]
     },
     "execution_count": 5,
     "metadata": {},
     "output_type": "execute_result"
    }
   ],
   "source": [
    "x_test.shape"
   ]
  },
  {
   "cell_type": "code",
   "execution_count": 6,
   "metadata": {
    "id": "YMAlz08aLisw"
   },
   "outputs": [],
   "source": [
    "from sklearn.model_selection import train_test_split"
   ]
  },
  {
   "cell_type": "code",
   "execution_count": 7,
   "metadata": {
    "id": "7od2jyG6LmBR"
   },
   "outputs": [],
   "source": [
    "x_train, x_valid, y_train, y_valid = train_test_split(x_train, y_train, test_size=0.20, random_state=3037)\n",
    "# DONOT change the random_state variable"
   ]
  },
  {
   "cell_type": "code",
   "execution_count": 8,
   "metadata": {
    "colab": {
     "base_uri": "https://localhost:8080/"
    },
    "id": "RYRt-3TyLt--",
    "outputId": "3fed9dec-a260-4370-c6a8-a47314966317"
   },
   "outputs": [
    {
     "data": {
      "text/plain": [
       "(48000, 28, 28)"
      ]
     },
     "execution_count": 8,
     "metadata": {},
     "output_type": "execute_result"
    }
   ],
   "source": [
    "x_train.shape"
   ]
  },
  {
   "cell_type": "code",
   "execution_count": 9,
   "metadata": {
    "colab": {
     "base_uri": "https://localhost:8080/"
    },
    "id": "LWorZPXILvaR",
    "outputId": "d8e82ca2-15b0-4d57-c9d1-ac2ec812bdd4"
   },
   "outputs": [
    {
     "data": {
      "text/plain": [
       "(12000, 28, 28)"
      ]
     },
     "execution_count": 9,
     "metadata": {},
     "output_type": "execute_result"
    }
   ],
   "source": [
    "x_valid.shape"
   ]
  },
  {
   "cell_type": "code",
   "execution_count": 10,
   "metadata": {
    "id": "ldPTobysLz_i"
   },
   "outputs": [],
   "source": [
    "d = pd.DataFrame()\n",
    "d[\"y\"] = y_train"
   ]
  },
  {
   "cell_type": "code",
   "execution_count": 11,
   "metadata": {
    "colab": {
     "base_uri": "https://localhost:8080/"
    },
    "id": "ZRF8luY3L1sP",
    "outputId": "a9b99adc-02e0-4076-c56c-75a09fc883f6"
   },
   "outputs": [
    {
     "data": {
      "text/plain": [
       "1    5381\n",
       "7    5004\n",
       "3    4876\n",
       "2    4797\n",
       "0    4785\n",
       "9    4774\n",
       "6    4743\n",
       "4    4671\n",
       "8    4610\n",
       "5    4359\n",
       "Name: y, dtype: int64"
      ]
     },
     "execution_count": 11,
     "metadata": {},
     "output_type": "execute_result"
    }
   ],
   "source": [
    "# Let's analyze, how the distribution for the class variable looks like:\n",
    "d.y.value_counts()"
   ]
  },
  {
   "cell_type": "markdown",
   "metadata": {
    "id": "Zwhq_7ejL5xQ"
   },
   "source": [
    "The images we have are in the 28 * 28 dimension. For a simple shallow neural network, we donot have to consider the height and width of the images separately. That means, we can simply make a long vector of 28 * 28 = 784 dimension and work with it."
   ]
  },
  {
   "cell_type": "code",
   "execution_count": 12,
   "metadata": {
    "id": "5NWiHVq2L-NV"
   },
   "outputs": [],
   "source": [
    "# Flattening the images\n",
    "flattened_image = x_train.shape[1]*x_train.shape[2]\n",
    "x_train = x_train.reshape(x_train.shape[0], flattened_image)\n",
    "x_valid = x_valid.reshape(x_valid.shape[0], flattened_image)\n",
    "x_test = x_test.reshape(x_test.shape[0], flattened_image)"
   ]
  },
  {
   "cell_type": "code",
   "execution_count": 13,
   "metadata": {
    "colab": {
     "base_uri": "https://localhost:8080/"
    },
    "id": "nRCfnL8-MShh",
    "outputId": "f91d8998-3da6-4c19-b170-4b0e3360ddb3"
   },
   "outputs": [
    {
     "data": {
      "text/plain": [
       "(48000, 784)"
      ]
     },
     "execution_count": 13,
     "metadata": {},
     "output_type": "execute_result"
    }
   ],
   "source": [
    "x_train.shape"
   ]
  },
  {
   "cell_type": "code",
   "execution_count": 14,
   "metadata": {
    "colab": {
     "base_uri": "https://localhost:8080/"
    },
    "id": "x-ooYiSOMYWp",
    "outputId": "9f932e37-6282-4c9d-9662-f98bcde1eaa9"
   },
   "outputs": [
    {
     "data": {
      "text/plain": [
       "(12000, 784)"
      ]
     },
     "execution_count": 14,
     "metadata": {},
     "output_type": "execute_result"
    }
   ],
   "source": [
    "x_valid.shape"
   ]
  },
  {
   "cell_type": "code",
   "execution_count": 15,
   "metadata": {
    "colab": {
     "base_uri": "https://localhost:8080/"
    },
    "id": "Ez5PSsACMZUK",
    "outputId": "0d93030c-3a57-4997-e2ce-bfe975c8fcec"
   },
   "outputs": [
    {
     "data": {
      "text/plain": [
       "(10000, 784)"
      ]
     },
     "execution_count": 15,
     "metadata": {},
     "output_type": "execute_result"
    }
   ],
   "source": [
    "x_test.shape"
   ]
  },
  {
   "cell_type": "code",
   "execution_count": 16,
   "metadata": {
    "colab": {
     "base_uri": "https://localhost:8080/"
    },
    "id": "XWSHT6BtMaes",
    "outputId": "2559a0c4-61c0-426a-806b-e47ce1f5d662"
   },
   "outputs": [
    {
     "data": {
      "text/plain": [
       "array([0, 1, 2, 3, 4, 5, 6, 7, 8, 9], dtype=uint8)"
      ]
     },
     "execution_count": 16,
     "metadata": {},
     "output_type": "execute_result"
    }
   ],
   "source": [
    "# converting the classes to categorical variable\n",
    "classes = np.unique(y_train)\n",
    "classes"
   ]
  },
  {
   "cell_type": "code",
   "execution_count": 17,
   "metadata": {
    "colab": {
     "base_uri": "https://localhost:8080/"
    },
    "id": "oEXHCqSSMb_N",
    "outputId": "4c906b3d-0bb9-4038-f1b9-342db95bc7e1"
   },
   "outputs": [
    {
     "data": {
      "text/plain": [
       "10"
      ]
     },
     "execution_count": 17,
     "metadata": {},
     "output_type": "execute_result"
    }
   ],
   "source": [
    "num_classes = len(classes)\n",
    "num_classes"
   ]
  },
  {
   "cell_type": "markdown",
   "metadata": {
    "id": "cCH6eGuFMehU"
   },
   "source": [
    "For the specific loss function we will use \"categorical cross entropy\", it is important to convert the target class in an one-hot-encoded form"
   ]
  },
  {
   "cell_type": "code",
   "execution_count": 18,
   "metadata": {
    "colab": {
     "base_uri": "https://localhost:8080/"
    },
    "id": "Yj0B9DOLMjHa",
    "outputId": "5c510092-634d-468c-cc61-37d6e0165950"
   },
   "outputs": [
    {
     "data": {
      "text/plain": [
       "array([[0., 0., 0., ..., 0., 0., 0.],\n",
       "       [0., 0., 0., ..., 1., 0., 0.],\n",
       "       [0., 0., 0., ..., 1., 0., 0.],\n",
       "       ...,\n",
       "       [0., 0., 1., ..., 0., 0., 0.],\n",
       "       [0., 0., 0., ..., 0., 0., 0.],\n",
       "       [1., 0., 0., ..., 0., 0., 0.]], dtype=float32)"
      ]
     },
     "execution_count": 18,
     "metadata": {},
     "output_type": "execute_result"
    }
   ],
   "source": [
    "y_train = to_categorical(y_train)\n",
    "y_train"
   ]
  },
  {
   "cell_type": "code",
   "execution_count": 19,
   "metadata": {
    "id": "jvkyXQUqMnYO"
   },
   "outputs": [],
   "source": [
    "y_valid = to_categorical(y_valid)\n",
    "y_test = to_categorical(y_test)"
   ]
  },
  {
   "cell_type": "markdown",
   "metadata": {
    "id": "uCXeG__eAIxe"
   },
   "source": [
    "###**Function Definitions**"
   ]
  },
  {
   "cell_type": "code",
   "execution_count": 20,
   "metadata": {
    "id": "yxCWT2LIMpOz"
   },
   "outputs": [],
   "source": [
    "# # Helper function 1: \n",
    "# #create the neural network\n",
    "# def create_model(num_layers, num_units, flattened_size, activation_function, class_size):\n",
    "#   '''\n",
    "#   We create a neural network in this function. You can choose the layer size, the units perlayer, activation function,\n",
    "#   and size of the class. This function creates the basic architecture required to handle the tasks.\n",
    "#   '''\n",
    "\n",
    "#   model = Sequential()\n",
    "#   model.add(Dense(units=num_units, activation=activation_function, input_shape=(flattened_size,)))\n",
    "#   for i in range(num_layers-1):\n",
    "#     model.add(Dense(units=num_units, activation=activation_function))\n",
    "#   model.add(Dense(units=num_classes, activation='softmax'))\n",
    "\n",
    "#   return model\n",
    "\n",
    "# Helper function 1: \n",
    "\n",
    "#create the neural network\n",
    "\n",
    "def create_model(num_layers, num_units, flattened_size, activation_function, class_size):\n",
    "  '''\n",
    "  We create a neural network in this function. You can choose the layer size, the units perlayer, activation function,\n",
    "  and size of the class. This function creates the basic architecture required to handle the tasks.\n",
    "  '''\n",
    "  seed(37)\n",
    "  random.seed(37)\n",
    "  tf.random.set_seed(37)\n",
    "  model = Sequential()\n",
    "  model.add(Dense(units=num_units, activation=activation_function, input_shape=(flattened_size,)))\n",
    "  for i in range(num_layers-1):\n",
    "    model.add(Dense(units=num_units, activation=activation_function))\n",
    "  model.add(Dense(units=num_classes, activation='softmax'))\n",
    "  return model"
   ]
  },
  {
   "cell_type": "code",
   "execution_count": 21,
   "metadata": {
    "id": "bD1o5k7WODGG"
   },
   "outputs": [],
   "source": [
    "def evaluate(FCmodel, Learning_Rate, batch_sz, epochs, add_visualization=True):\n",
    "  '''\n",
    "  This function will run and evaluate the neural network. \n",
    "  *** Important: DoNOT change the seed values. This will ensure the reproducibility of the experiments.\n",
    "  '''\n",
    "  seed(37)\n",
    "  random.seed(37)\n",
    "  tf.random.set_seed(37)\n",
    "  opt = tf.keras.optimizers.SGD(learning_rate=Learning_Rate)\n",
    "  FCmodel.compile(optimizer=opt, loss='categorical_crossentropy', metrics=['accuracy'])\n",
    "  history = FCmodel.fit(x_train, y_train, batch_size=int(batch_sz), epochs=int(epochs), \n",
    "                        verbose=add_visualization, validation_data=(x_valid, y_valid))\n",
    "  loss, accuracy  = FCmodel.evaluate(x_valid, y_valid, verbose=False)\n",
    "\n",
    "  if add_visualization:\n",
    "    print(f'validation loss: {loss:.4}')\n",
    "    print(f'validation accuracy: {accuracy:.4}')\n",
    "\n",
    "    plt.plot(history.history['accuracy'])\n",
    "    plt.plot(history.history['val_accuracy'])\n",
    "    plt.title('model performance')\n",
    "    plt.ylabel('accuracy')\n",
    "    plt.xlabel('epoch')\n",
    "    plt.legend(['training', 'validation'], loc='best')\n",
    "    plt.show()\n",
    "\n",
    "\n",
    "  return loss, accuracy"
   ]
  },
  {
   "cell_type": "markdown",
   "metadata": {
    "id": "vxAVGqM2OEwD"
   },
   "source": [
    "###**Creating a model and evaluating it**\n",
    "\n",
    "Let's check, how our model performs. Run the followung cell and make sure you get the EXACT same values as output.\n",
    "\n"
   ]
  },
  {
   "cell_type": "code",
   "execution_count": 22,
   "metadata": {
    "colab": {
     "base_uri": "https://localhost:8080/",
     "height": 1000
    },
    "id": "spXfZ1eIOXsS",
    "outputId": "964ae59b-a168-4322-cfa3-5758dd1bd3ea"
   },
   "outputs": [
    {
     "name": "stdout",
     "output_type": "stream",
     "text": [
      "Epoch 1/100\n",
      "188/188 [==============================] - 1s 4ms/step - loss: 2.3016 - accuracy: 0.1125 - val_loss: 2.2961 - val_accuracy: 0.1134\n",
      "Epoch 2/100\n",
      "188/188 [==============================] - 1s 4ms/step - loss: 2.2937 - accuracy: 0.1166 - val_loss: 2.2904 - val_accuracy: 0.1134\n",
      "Epoch 3/100\n",
      "188/188 [==============================] - 1s 4ms/step - loss: 2.2857 - accuracy: 0.1291 - val_loss: 2.2797 - val_accuracy: 0.1205\n",
      "Epoch 4/100\n",
      "188/188 [==============================] - 1s 3ms/step - loss: 2.2671 - accuracy: 0.1864 - val_loss: 2.2490 - val_accuracy: 0.2005\n",
      "Epoch 5/100\n",
      "188/188 [==============================] - 1s 3ms/step - loss: 2.2058 - accuracy: 0.2234 - val_loss: 2.1411 - val_accuracy: 0.2479\n",
      "Epoch 6/100\n",
      "188/188 [==============================] - 1s 4ms/step - loss: 2.0349 - accuracy: 0.2330 - val_loss: 1.9296 - val_accuracy: 0.2531\n",
      "Epoch 7/100\n",
      "188/188 [==============================] - 1s 3ms/step - loss: 1.8570 - accuracy: 0.2750 - val_loss: 1.8101 - val_accuracy: 0.3095\n",
      "Epoch 8/100\n",
      "188/188 [==============================] - 1s 3ms/step - loss: 1.7577 - accuracy: 0.3335 - val_loss: 1.7180 - val_accuracy: 0.3730\n",
      "Epoch 9/100\n",
      "188/188 [==============================] - 1s 3ms/step - loss: 1.7037 - accuracy: 0.3754 - val_loss: 1.6888 - val_accuracy: 0.3668\n",
      "Epoch 10/100\n",
      "188/188 [==============================] - 1s 4ms/step - loss: 1.6483 - accuracy: 0.4236 - val_loss: 1.6417 - val_accuracy: 0.4399\n",
      "Epoch 11/100\n",
      "188/188 [==============================] - 1s 4ms/step - loss: 1.5937 - accuracy: 0.4546 - val_loss: 1.5934 - val_accuracy: 0.4518\n",
      "Epoch 12/100\n",
      "188/188 [==============================] - 1s 4ms/step - loss: 1.5565 - accuracy: 0.4643 - val_loss: 1.5322 - val_accuracy: 0.4745\n",
      "Epoch 13/100\n",
      "188/188 [==============================] - 1s 3ms/step - loss: 1.4662 - accuracy: 0.5399 - val_loss: 1.4070 - val_accuracy: 0.5457\n",
      "Epoch 14/100\n",
      "188/188 [==============================] - 1s 4ms/step - loss: 1.3696 - accuracy: 0.5632 - val_loss: 1.2992 - val_accuracy: 0.5787\n",
      "Epoch 15/100\n",
      "188/188 [==============================] - 1s 4ms/step - loss: 1.2581 - accuracy: 0.6010 - val_loss: 1.1926 - val_accuracy: 0.6501\n",
      "Epoch 16/100\n",
      "188/188 [==============================] - 1s 3ms/step - loss: 1.1789 - accuracy: 0.6426 - val_loss: 1.1863 - val_accuracy: 0.6266\n",
      "Epoch 17/100\n",
      "188/188 [==============================] - 1s 3ms/step - loss: 1.1270 - accuracy: 0.6645 - val_loss: 1.0912 - val_accuracy: 0.6878\n",
      "Epoch 18/100\n",
      "188/188 [==============================] - 1s 3ms/step - loss: 1.1062 - accuracy: 0.6657 - val_loss: 1.1350 - val_accuracy: 0.6363\n",
      "Epoch 19/100\n",
      "188/188 [==============================] - 1s 4ms/step - loss: 1.0871 - accuracy: 0.6746 - val_loss: 1.0421 - val_accuracy: 0.6848\n",
      "Epoch 20/100\n",
      "188/188 [==============================] - 1s 3ms/step - loss: 1.0437 - accuracy: 0.6899 - val_loss: 1.0577 - val_accuracy: 0.6837\n",
      "Epoch 21/100\n",
      "188/188 [==============================] - 1s 4ms/step - loss: 1.0223 - accuracy: 0.6948 - val_loss: 0.9920 - val_accuracy: 0.6929\n",
      "Epoch 22/100\n",
      "188/188 [==============================] - 1s 4ms/step - loss: 0.9928 - accuracy: 0.6949 - val_loss: 1.0318 - val_accuracy: 0.6589\n",
      "Epoch 23/100\n",
      "188/188 [==============================] - 1s 4ms/step - loss: 0.9967 - accuracy: 0.6993 - val_loss: 1.0771 - val_accuracy: 0.6603\n",
      "Epoch 24/100\n",
      "188/188 [==============================] - 1s 3ms/step - loss: 0.9533 - accuracy: 0.7132 - val_loss: 0.9759 - val_accuracy: 0.7064\n",
      "Epoch 25/100\n",
      "188/188 [==============================] - 1s 4ms/step - loss: 0.9367 - accuracy: 0.7239 - val_loss: 0.9630 - val_accuracy: 0.7312\n",
      "Epoch 26/100\n",
      "188/188 [==============================] - 1s 4ms/step - loss: 0.9080 - accuracy: 0.7346 - val_loss: 0.9216 - val_accuracy: 0.7281\n",
      "Epoch 27/100\n",
      "188/188 [==============================] - 1s 3ms/step - loss: 0.9008 - accuracy: 0.7327 - val_loss: 0.8799 - val_accuracy: 0.7072\n",
      "Epoch 28/100\n",
      "188/188 [==============================] - 1s 3ms/step - loss: 0.8695 - accuracy: 0.7444 - val_loss: 0.8730 - val_accuracy: 0.7331\n",
      "Epoch 29/100\n",
      "188/188 [==============================] - 1s 4ms/step - loss: 0.8834 - accuracy: 0.7248 - val_loss: 0.8961 - val_accuracy: 0.6974\n",
      "Epoch 30/100\n",
      "188/188 [==============================] - 1s 3ms/step - loss: 0.8597 - accuracy: 0.7338 - val_loss: 0.8313 - val_accuracy: 0.7558\n",
      "Epoch 31/100\n",
      "188/188 [==============================] - 1s 3ms/step - loss: 0.8268 - accuracy: 0.7485 - val_loss: 0.8619 - val_accuracy: 0.7330\n",
      "Epoch 32/100\n",
      "188/188 [==============================] - 1s 4ms/step - loss: 0.8344 - accuracy: 0.7424 - val_loss: 0.8351 - val_accuracy: 0.7431\n",
      "Epoch 33/100\n",
      "188/188 [==============================] - 1s 3ms/step - loss: 0.8348 - accuracy: 0.7546 - val_loss: 0.8074 - val_accuracy: 0.7785\n",
      "Epoch 34/100\n",
      "188/188 [==============================] - 1s 3ms/step - loss: 0.8258 - accuracy: 0.7513 - val_loss: 0.8000 - val_accuracy: 0.7536\n",
      "Epoch 35/100\n",
      "188/188 [==============================] - 1s 3ms/step - loss: 0.8135 - accuracy: 0.7632 - val_loss: 0.8123 - val_accuracy: 0.7546\n",
      "Epoch 36/100\n",
      "188/188 [==============================] - 1s 3ms/step - loss: 0.8190 - accuracy: 0.7604 - val_loss: 0.8417 - val_accuracy: 0.7512\n",
      "Epoch 37/100\n",
      "188/188 [==============================] - 1s 4ms/step - loss: 0.8288 - accuracy: 0.7565 - val_loss: 0.8337 - val_accuracy: 0.7534\n",
      "Epoch 38/100\n",
      "188/188 [==============================] - 1s 3ms/step - loss: 0.8450 - accuracy: 0.7487 - val_loss: 0.8399 - val_accuracy: 0.7382\n",
      "Epoch 39/100\n",
      "188/188 [==============================] - 1s 3ms/step - loss: 0.8136 - accuracy: 0.7559 - val_loss: 0.8219 - val_accuracy: 0.7557\n",
      "Epoch 40/100\n",
      "188/188 [==============================] - 1s 3ms/step - loss: 0.8256 - accuracy: 0.7531 - val_loss: 0.8329 - val_accuracy: 0.7398\n",
      "Epoch 41/100\n",
      "188/188 [==============================] - 1s 3ms/step - loss: 0.8292 - accuracy: 0.7464 - val_loss: 0.7910 - val_accuracy: 0.7654\n",
      "Epoch 42/100\n",
      "188/188 [==============================] - 1s 4ms/step - loss: 0.7921 - accuracy: 0.7636 - val_loss: 0.7984 - val_accuracy: 0.7638\n",
      "Epoch 43/100\n",
      "188/188 [==============================] - 1s 3ms/step - loss: 0.7989 - accuracy: 0.7455 - val_loss: 0.8571 - val_accuracy: 0.7023\n",
      "Epoch 44/100\n",
      "188/188 [==============================] - 1s 3ms/step - loss: 0.8128 - accuracy: 0.7409 - val_loss: 0.7862 - val_accuracy: 0.7613\n",
      "Epoch 45/100\n",
      "188/188 [==============================] - 1s 3ms/step - loss: 0.7752 - accuracy: 0.7514 - val_loss: 0.7562 - val_accuracy: 0.7624\n",
      "Epoch 46/100\n",
      "188/188 [==============================] - 1s 4ms/step - loss: 0.7522 - accuracy: 0.7682 - val_loss: 0.7513 - val_accuracy: 0.7787\n",
      "Epoch 47/100\n",
      "188/188 [==============================] - 1s 3ms/step - loss: 0.7740 - accuracy: 0.7593 - val_loss: 0.7816 - val_accuracy: 0.7395\n",
      "Epoch 48/100\n",
      "188/188 [==============================] - 1s 3ms/step - loss: 0.7532 - accuracy: 0.7592 - val_loss: 0.7186 - val_accuracy: 0.7828\n",
      "Epoch 49/100\n",
      "188/188 [==============================] - 1s 3ms/step - loss: 0.7125 - accuracy: 0.7813 - val_loss: 0.7298 - val_accuracy: 0.7559\n",
      "Epoch 50/100\n",
      "188/188 [==============================] - 1s 3ms/step - loss: 0.7039 - accuracy: 0.7866 - val_loss: 0.6918 - val_accuracy: 0.7947\n",
      "Epoch 51/100\n",
      "188/188 [==============================] - 1s 3ms/step - loss: 0.7011 - accuracy: 0.7894 - val_loss: 0.7171 - val_accuracy: 0.7804\n",
      "Epoch 52/100\n",
      "188/188 [==============================] - 1s 4ms/step - loss: 0.7176 - accuracy: 0.7789 - val_loss: 0.7660 - val_accuracy: 0.7642\n",
      "Epoch 53/100\n",
      "188/188 [==============================] - 1s 3ms/step - loss: 0.7481 - accuracy: 0.7786 - val_loss: 0.7322 - val_accuracy: 0.7801\n",
      "Epoch 54/100\n",
      "188/188 [==============================] - 1s 3ms/step - loss: 0.7015 - accuracy: 0.7951 - val_loss: 0.7540 - val_accuracy: 0.7902\n",
      "Epoch 55/100\n",
      "188/188 [==============================] - 1s 4ms/step - loss: 0.7532 - accuracy: 0.7733 - val_loss: 0.7430 - val_accuracy: 0.7757\n",
      "Epoch 56/100\n",
      "188/188 [==============================] - 1s 4ms/step - loss: 0.7062 - accuracy: 0.7875 - val_loss: 0.6789 - val_accuracy: 0.7934\n",
      "Epoch 57/100\n",
      "188/188 [==============================] - 1s 4ms/step - loss: 0.6990 - accuracy: 0.7878 - val_loss: 0.7743 - val_accuracy: 0.7410\n",
      "Epoch 58/100\n",
      "188/188 [==============================] - 1s 4ms/step - loss: 0.7125 - accuracy: 0.7726 - val_loss: 0.6920 - val_accuracy: 0.7712\n",
      "Epoch 59/100\n",
      "188/188 [==============================] - 1s 3ms/step - loss: 0.6837 - accuracy: 0.7821 - val_loss: 0.6923 - val_accuracy: 0.7776\n",
      "Epoch 60/100\n",
      "188/188 [==============================] - 1s 3ms/step - loss: 0.7016 - accuracy: 0.7760 - val_loss: 0.6853 - val_accuracy: 0.7864\n",
      "Epoch 61/100\n",
      "188/188 [==============================] - 1s 3ms/step - loss: 0.6709 - accuracy: 0.8026 - val_loss: 0.6741 - val_accuracy: 0.8132\n",
      "Epoch 62/100\n",
      "188/188 [==============================] - 1s 4ms/step - loss: 0.6789 - accuracy: 0.8084 - val_loss: 0.7019 - val_accuracy: 0.7953\n",
      "Epoch 63/100\n",
      "188/188 [==============================] - 1s 4ms/step - loss: 0.6725 - accuracy: 0.8041 - val_loss: 0.6742 - val_accuracy: 0.8063\n",
      "Epoch 64/100\n",
      "188/188 [==============================] - 1s 4ms/step - loss: 0.6490 - accuracy: 0.8174 - val_loss: 0.6932 - val_accuracy: 0.7965\n",
      "Epoch 65/100\n",
      "188/188 [==============================] - 1s 3ms/step - loss: 0.6387 - accuracy: 0.8116 - val_loss: 0.6190 - val_accuracy: 0.8195\n",
      "Epoch 66/100\n",
      "188/188 [==============================] - 1s 4ms/step - loss: 0.6109 - accuracy: 0.8214 - val_loss: 0.6024 - val_accuracy: 0.8292\n",
      "Epoch 67/100\n",
      "188/188 [==============================] - 1s 3ms/step - loss: 0.5970 - accuracy: 0.8314 - val_loss: 0.6116 - val_accuracy: 0.8214\n",
      "Epoch 68/100\n",
      "188/188 [==============================] - 1s 4ms/step - loss: 0.6044 - accuracy: 0.8274 - val_loss: 0.6549 - val_accuracy: 0.8030\n",
      "Epoch 69/100\n",
      "188/188 [==============================] - 1s 4ms/step - loss: 0.6583 - accuracy: 0.7958 - val_loss: 0.6500 - val_accuracy: 0.8052\n",
      "Epoch 70/100\n",
      "188/188 [==============================] - 1s 3ms/step - loss: 0.6292 - accuracy: 0.8125 - val_loss: 0.6225 - val_accuracy: 0.8165\n",
      "Epoch 71/100\n",
      "188/188 [==============================] - 1s 4ms/step - loss: 0.6158 - accuracy: 0.8230 - val_loss: 0.6288 - val_accuracy: 0.8227\n",
      "Epoch 72/100\n",
      "188/188 [==============================] - 1s 4ms/step - loss: 0.6090 - accuracy: 0.8307 - val_loss: 0.6068 - val_accuracy: 0.8305\n",
      "Epoch 73/100\n",
      "188/188 [==============================] - 1s 4ms/step - loss: 0.5840 - accuracy: 0.8340 - val_loss: 0.5880 - val_accuracy: 0.8357\n",
      "Epoch 74/100\n",
      "188/188 [==============================] - 1s 3ms/step - loss: 0.5764 - accuracy: 0.8385 - val_loss: 0.6151 - val_accuracy: 0.8172\n",
      "Epoch 75/100\n",
      "188/188 [==============================] - 1s 4ms/step - loss: 0.6076 - accuracy: 0.8273 - val_loss: 0.5825 - val_accuracy: 0.8363\n",
      "Epoch 76/100\n",
      "188/188 [==============================] - 1s 3ms/step - loss: 0.5990 - accuracy: 0.8202 - val_loss: 0.6036 - val_accuracy: 0.8247\n",
      "Epoch 77/100\n",
      "188/188 [==============================] - 1s 4ms/step - loss: 0.5987 - accuracy: 0.8265 - val_loss: 0.5927 - val_accuracy: 0.8281\n",
      "Epoch 78/100\n",
      "188/188 [==============================] - 1s 4ms/step - loss: 0.5887 - accuracy: 0.8332 - val_loss: 0.5901 - val_accuracy: 0.8347\n",
      "Epoch 79/100\n",
      "188/188 [==============================] - 1s 4ms/step - loss: 0.6119 - accuracy: 0.8067 - val_loss: 0.6237 - val_accuracy: 0.8072\n",
      "Epoch 80/100\n",
      "188/188 [==============================] - 1s 3ms/step - loss: 0.5934 - accuracy: 0.8285 - val_loss: 0.5812 - val_accuracy: 0.8298\n",
      "Epoch 81/100\n",
      "188/188 [==============================] - 1s 3ms/step - loss: 0.5755 - accuracy: 0.8337 - val_loss: 0.5868 - val_accuracy: 0.8276\n",
      "Epoch 82/100\n",
      "188/188 [==============================] - 1s 4ms/step - loss: 0.5916 - accuracy: 0.8264 - val_loss: 0.6119 - val_accuracy: 0.8126\n",
      "Epoch 83/100\n",
      "188/188 [==============================] - 1s 3ms/step - loss: 0.5716 - accuracy: 0.8337 - val_loss: 0.5751 - val_accuracy: 0.8413\n",
      "Epoch 84/100\n",
      "188/188 [==============================] - 1s 4ms/step - loss: 0.5736 - accuracy: 0.8371 - val_loss: 0.5879 - val_accuracy: 0.8395\n",
      "Epoch 85/100\n",
      "188/188 [==============================] - 1s 4ms/step - loss: 0.5563 - accuracy: 0.8418 - val_loss: 0.5640 - val_accuracy: 0.8334\n",
      "Epoch 86/100\n",
      "188/188 [==============================] - 1s 3ms/step - loss: 0.5717 - accuracy: 0.8360 - val_loss: 0.6161 - val_accuracy: 0.8242\n",
      "Epoch 87/100\n",
      "188/188 [==============================] - 1s 3ms/step - loss: 0.5909 - accuracy: 0.8265 - val_loss: 0.5835 - val_accuracy: 0.8360\n",
      "Epoch 88/100\n",
      "188/188 [==============================] - 1s 4ms/step - loss: 0.5547 - accuracy: 0.8436 - val_loss: 0.5523 - val_accuracy: 0.8453\n",
      "Epoch 89/100\n",
      "188/188 [==============================] - 1s 4ms/step - loss: 0.5888 - accuracy: 0.8207 - val_loss: 0.6189 - val_accuracy: 0.8040\n",
      "Epoch 90/100\n",
      "188/188 [==============================] - 1s 4ms/step - loss: 0.5800 - accuracy: 0.8282 - val_loss: 0.5868 - val_accuracy: 0.8194\n",
      "Epoch 91/100\n",
      "188/188 [==============================] - 1s 3ms/step - loss: 0.5569 - accuracy: 0.8368 - val_loss: 0.5708 - val_accuracy: 0.8348\n",
      "Epoch 92/100\n",
      "188/188 [==============================] - 1s 3ms/step - loss: 0.5438 - accuracy: 0.8425 - val_loss: 0.5856 - val_accuracy: 0.8291\n",
      "Epoch 93/100\n",
      "188/188 [==============================] - 1s 3ms/step - loss: 0.5501 - accuracy: 0.8431 - val_loss: 0.5563 - val_accuracy: 0.8439\n",
      "Epoch 94/100\n",
      "188/188 [==============================] - 1s 4ms/step - loss: 0.5337 - accuracy: 0.8506 - val_loss: 0.5578 - val_accuracy: 0.8374\n",
      "Epoch 95/100\n",
      "188/188 [==============================] - 1s 4ms/step - loss: 0.5459 - accuracy: 0.8420 - val_loss: 0.5705 - val_accuracy: 0.8342\n",
      "Epoch 96/100\n",
      "188/188 [==============================] - 1s 3ms/step - loss: 0.5324 - accuracy: 0.8449 - val_loss: 0.5210 - val_accuracy: 0.8516\n",
      "Epoch 97/100\n",
      "188/188 [==============================] - 1s 3ms/step - loss: 0.5272 - accuracy: 0.8491 - val_loss: 0.5526 - val_accuracy: 0.8424\n",
      "Epoch 98/100\n",
      "188/188 [==============================] - 1s 3ms/step - loss: 0.5422 - accuracy: 0.8433 - val_loss: 0.5606 - val_accuracy: 0.8335\n",
      "Epoch 99/100\n",
      "188/188 [==============================] - 1s 3ms/step - loss: 0.5499 - accuracy: 0.8406 - val_loss: 0.5568 - val_accuracy: 0.8469\n",
      "Epoch 100/100\n",
      "188/188 [==============================] - 1s 4ms/step - loss: 0.5469 - accuracy: 0.8522 - val_loss: 0.5519 - val_accuracy: 0.8515\n",
      "validation loss: 0.5519\n",
      "validation accuracy: 0.8515\n"
     ]
    },
    {
     "data": {
      "image/png": "[encoded data removed]",
      "text/plain": [
       "<Figure size 432x288 with 1 Axes>"
      ]
     },
     "metadata": {
      "needs_background": "light"
     },
     "output_type": "display_data"
    }
   ],
   "source": [
    "special_model = create_model(num_layers=4, num_units=16, flattened_size=x_test.shape[1], \n",
    "                     activation_function='sigmoid', class_size=num_classes)\n",
    "loss, acc = evaluate(FCmodel=special_model, Learning_Rate=0.1, batch_sz=256, epochs=100)"
   ]
  },
  {
   "cell_type": "code",
   "execution_count": 23,
   "metadata": {
    "colab": {
     "base_uri": "https://localhost:8080/"
    },
    "id": "tJPXa3AHOZ1B",
    "outputId": "48e36bad-3d88-4807-8f85-1cb8b907da97"
   },
   "outputs": [
    {
     "name": "stdout",
     "output_type": "stream",
     "text": [
      "Model: \"sequential\"\n",
      "_________________________________________________________________\n",
      "Layer (type)                 Output Shape              Param #   \n",
      "=================================================================\n",
      "dense (Dense)                (None, 16)                12560     \n",
      "_________________________________________________________________\n",
      "dense_1 (Dense)              (None, 16)                272       \n",
      "_________________________________________________________________\n",
      "dense_2 (Dense)              (None, 16)                272       \n",
      "_________________________________________________________________\n",
      "dense_3 (Dense)              (None, 16)                272       \n",
      "_________________________________________________________________\n",
      "dense_4 (Dense)              (None, 10)                170       \n",
      "=================================================================\n",
      "Total params: 13,546\n",
      "Trainable params: 13,546\n",
      "Non-trainable params: 0\n",
      "_________________________________________________________________\n"
     ]
    }
   ],
   "source": [
    "special_model.summary()\n"
   ]
  },
  {
   "cell_type": "markdown",
   "metadata": {
    "id": "_UDaNi8yRrYV"
   },
   "source": [
    "##**Subtask 1** \n",
    "Tune each class of Hyperparameters and observe the performance with a graph.\n",
    "\n",
    "The first one is done for you"
   ]
  },
  {
   "cell_type": "code",
   "execution_count": null,
   "metadata": {
    "id": "kAP960XiiyYn"
   },
   "outputs": [],
   "source": [
    "# Below are the five classes of hyperparameters\n",
    "LAYERS = [2, 3, 4]\n",
    "UNITS = [4, 8, 16, 32, 64, 128, 256]\n",
    "BATCH = [8, 16, 32, 64, 128]\n",
    "LEARNING_RATE = [0.1, 0.01, 0.001, 0.0001, 0.00001]\n",
    "EPOCHS = [10, 20, 30, 40, 100]"
   ]
  },
  {
   "cell_type": "markdown",
   "metadata": {
    "id": "L9QQuhP_cHRs"
   },
   "source": [
    "### **Question 1**\n",
    "create a Layer-vs-accuracy graph for the following setting:\n",
    "\n",
    "units = [32, 128]\n",
    "\n",
    "Batch_size = [16, 64]\n",
    "\n",
    "Learning_rate = [0.1]\n",
    "\n",
    "Epochs = [10, 20]\n",
    "\n",
    "\n",
    "That means there will be 2 * 2 * 1 * 2 = 8 graphs"
   ]
  },
  {
   "cell_type": "code",
   "execution_count": null,
   "metadata": {
    "colab": {
     "base_uri": "https://localhost:8080/"
    },
    "id": "oA_paR6li-by",
    "outputId": "34e943cb-5883-4123-c84c-e1e955c2f658"
   },
   "outputs": [
    {
     "name": "stdout",
     "output_type": "stream",
     "text": [
      "3337_Task3.ipynb  q1ACCs.csv  q4ACCs.csv  q5ACCs.csv  sub1.gdoc  Task3.gdoc\n",
      "CPU times: user 22min 7s, sys: 1min 39s, total: 23min 47s\n",
      "Wall time: 21min 42s\n"
     ]
    }
   ],
   "source": [
    "# Question 1\n",
    "# This codeblock produces and evaluates each model, and saves the qxACCs\n",
    "%%time\n",
    "q1ACCs = []\n",
    "for B in [16, 64]:\n",
    "  for E in [10,20]:\n",
    "    for U in [32, 128]:\n",
    "      ACC = []\n",
    "      for L in LAYERS:\n",
    "        special_model = create_model(num_layers=L, num_units=U, flattened_size=x_test.shape[1], \n",
    "                            activation_function='sigmoid', class_size=num_classes)\n",
    "        loss, acc = evaluate(FCmodel=special_model, Learning_Rate=0.1, batch_sz=B, epochs=E, add_visualization=False)\n",
    "        ACC.append(acc) \n",
    "      q1ACCs.append(ACC)\n",
    "save(\"q1ACCs.csv\",q1ACCs)"
   ]
  },
  {
   "cell_type": "code",
   "execution_count": null,
   "metadata": {
    "colab": {
     "base_uri": "https://localhost:8080/"
    },
    "id": "Gz_Y-1F591o0",
    "outputId": "002d81ca-0e80-494d-c2b1-5779aeae8e44"
   },
   "outputs": [
    {
     "name": "stdout",
     "output_type": "stream",
     "text": [
      "/content/drive/MyDrive/1 BS in CS/Semester 5 (Fall 2021)/3337 Data Science/Task 3\n",
      "/content/drive/MyDrive/1 BS in CS/Semester 5 (Fall 2021)/3337 Data Science/Task 3\n"
     ]
    }
   ],
   "source": [
    "#if you already ran the above block and just want to retrieve the q1ACCs, run this block\n",
    "q1ACCs = load(\"q1ACCs.csv\")"
   ]
  },
  {
   "cell_type": "code",
   "execution_count": null,
   "metadata": {
    "colab": {
     "base_uri": "https://localhost:8080/",
     "height": 1000
    },
    "id": "Odo-zi4bmgsC",
    "outputId": "2f7d1772-b2f9-4b30-dfb7-50b20940f0a9"
   },
   "outputs": [
    {
     "data": {
      "image/png": "[encoded data removed]",
      "text/plain": [
       "<Figure size 432x288 with 1 Axes>"
      ]
     },
     "metadata": {
      "needs_background": "light"
     },
     "output_type": "display_data"
    },
    {
     "data": {
      "image/png": "[encoded data removed]",
      "text/plain": [
       "<Figure size 432x288 with 1 Axes>"
      ]
     },
     "metadata": {
      "needs_background": "light"
     },
     "output_type": "display_data"
    },
    {
     "data": {
      "image/png": "[encoded data removed]",
      "text/plain": [
       "<Figure size 432x288 with 1 Axes>"
      ]
     },
     "metadata": {
      "needs_background": "light"
     },
     "output_type": "display_data"
    },
    {
     "data": {
      "image/png": "[encoded data removed]",
      "text/plain": [
       "<Figure size 432x288 with 1 Axes>"
      ]
     },
     "metadata": {
      "needs_background": "light"
     },
     "output_type": "display_data"
    },
    {
     "data": {
      "image/png": "[encoded data removed]",
      "text/plain": [
       "<Figure size 432x288 with 1 Axes>"
      ]
     },
     "metadata": {
      "needs_background": "light"
     },
     "output_type": "display_data"
    },
    {
     "data": {
      "image/png": "[encoded data removed]",
      "text/plain": [
       "<Figure size 432x288 with 1 Axes>"
      ]
     },
     "metadata": {
      "needs_background": "light"
     },
     "output_type": "display_data"
    },
    {
     "data": {
      "image/png": "[encoded data removed]",
      "text/plain": [
       "<Figure size 432x288 with 1 Axes>"
      ]
     },
     "metadata": {
      "needs_background": "light"
     },
     "output_type": "display_data"
    },
    {
     "data": {
      "image/png": "[encoded data removed]",
      "text/plain": [
       "<Figure size 432x288 with 1 Axes>"
      ]
     },
     "metadata": {
      "needs_background": "light"
     },
     "output_type": "display_data"
    }
   ],
   "source": [
    "# Question 1\n",
    "#This codeblock only produces the graphs\n",
    "i = 0\n",
    "for B in [16, 64]:\n",
    "  for E in [10,20]:\n",
    "    for U in [32, 128]:\n",
    "      plt.plot(LAYERS, q1ACCs[i])\n",
    "      plt.xticks(LAYERS)\n",
    "      plt.xlabel(\"Layer_size\")\n",
    "      plt.ylabel(\"Accuracy\")\n",
    "      TITLE = \"Layer_size vs Acc\\nBatch size {}, Epoch {}, Unit size {}, Learning rate 0.1 \".format(B, E, U)\n",
    "      plt.title(TITLE)\n",
    "      plt.show()\n",
    "      i += 1"
   ]
  },
  {
   "cell_type": "markdown",
   "metadata": {
    "id": "lJkLV4qLEn9-"
   },
   "source": [
    "###**Question 2**\n",
    "Create a Unit size-vs-accuracy graph for the following settings:\n",
    " \n",
    "Layer size = [2]\n",
    "\n",
    "Batch_size = [16, 64]\n",
    "\n",
    "Learning_rate = [0.1]\n",
    "\n",
    "Epochs = [10, 20]\n",
    "\n",
    "\n",
    "That means there will be 1 * 2 * 1 * 2 = 4 graphs\n"
   ]
  },
  {
   "cell_type": "code",
   "execution_count": null,
   "metadata": {
    "colab": {
     "base_uri": "https://localhost:8080/"
    },
    "id": "-hgR-MgGjvqZ",
    "outputId": "65f6f936-cc1b-4942-8d46-5249e8b396ad"
   },
   "outputs": [
    {
     "name": "stdout",
     "output_type": "stream",
     "text": [
      "3337_Task3.ipynb  q2ACCs.csv  q5ACCs.csv  Task3.gdoc\n",
      "q1ACCs.csv\t  q4ACCs.csv  sub1.gdoc\n",
      "CPU times: user 25min 23s, sys: 2min 5s, total: 27min 29s\n",
      "Wall time: 22min 45s\n"
     ]
    }
   ],
   "source": [
    "# Question 2\n",
    "# This codeblock produces and evaluates each model, and saves the qxACCs\n",
    "%%time\n",
    "q2ACCs=[]\n",
    "for B in [16,64]:\n",
    "  for E in [10,20]:\n",
    "    ACC = []\n",
    "    for U in UNITS:\n",
    "      special_model = create_model(num_layers=2, num_units=U, flattened_size=x_test.shape[1],\n",
    "                                   activation_function='sigmoid', class_size=num_classes)\n",
    "      loss, acc = evaluate(FCmodel=special_model, Learning_Rate=0.1, batch_sz=B, epochs=E, add_visualization=False)\n",
    "      ACC.append(acc)\n",
    "    q2ACCs.append(ACC)\n",
    "save(\"q2ACCs.csv\",q2ACCs)\n"
   ]
  },
  {
   "cell_type": "code",
   "execution_count": null,
   "metadata": {
    "colab": {
     "base_uri": "https://localhost:8080/"
    },
    "id": "ClfddJV89ySh",
    "outputId": "df72e3a6-a4f2-4ca9-d70f-642f01fa63e4"
   },
   "outputs": [
    {
     "name": "stdout",
     "output_type": "stream",
     "text": [
      "/content/drive/MyDrive/1 BS in CS/Semester 5 (Fall 2021)/3337 Data Science/Task 3\n",
      "/content/drive/MyDrive/1 BS in CS/Semester 5 (Fall 2021)/3337 Data Science/Task 3\n"
     ]
    }
   ],
   "source": [
    "#if you already ran the above block and just want to retrieve the q2ACCs, run this block\n",
    "q2ACCs = load(\"q2ACCs.csv\")"
   ]
  },
  {
   "cell_type": "code",
   "execution_count": null,
   "metadata": {
    "colab": {
     "base_uri": "https://localhost:8080/",
     "height": 1000
    },
    "id": "oJWYCz2RA3RL",
    "outputId": "5ade2bdd-c323-4e0b-c268-084a8b87519c"
   },
   "outputs": [
    {
     "data": {
      "image/png": "[encoded data removed]",
      "text/plain": [
       "<Figure size 432x288 with 1 Axes>"
      ]
     },
     "metadata": {
      "needs_background": "light"
     },
     "output_type": "display_data"
    },
    {
     "data": {
      "image/png": "[encoded data removed]",
      "text/plain": [
       "<Figure size 432x288 with 1 Axes>"
      ]
     },
     "metadata": {
      "needs_background": "light"
     },
     "output_type": "display_data"
    },
    {
     "data": {
      "image/png": "[encoded data removed]",
      "text/plain": [
       "<Figure size 432x288 with 1 Axes>"
      ]
     },
     "metadata": {
      "needs_background": "light"
     },
     "output_type": "display_data"
    },
    {
     "data": {
      "image/png": "[encoded data removed]",
      "text/plain": [
       "<Figure size 432x288 with 1 Axes>"
      ]
     },
     "metadata": {
      "needs_background": "light"
     },
     "output_type": "display_data"
    }
   ],
   "source": [
    "# Question 2\n",
    "#This codeblock only produces the graphs\n",
    "i = 0\n",
    "for B in [16,64]:\n",
    "  for E in [10,20]:\n",
    "    plt.plot(UNITS, q2ACCs[i])\n",
    "    plt.xscale(\"log\", basex=2)\n",
    "    plt.xticks(UNITS)\n",
    "    plt.xlabel(\"Unit_size\")\n",
    "    plt.ylabel(\"Accuracy\")\n",
    "    TITLE = \"Unit_size vs Acc\\nBatch size {}, Epoch {}, Layer size 2, Learning rate 0.1\".format(B, E)\n",
    "    plt.title(TITLE)\n",
    "    plt.show()\n",
    "    i += 1"
   ]
  },
  {
   "cell_type": "markdown",
   "metadata": {
    "id": "1fTJU9AeFkxE"
   },
   "source": [
    "###**Question 3**\n",
    "create a Batch size-vs-accuracy graph for the following setting:\n",
    "\n",
    "Layer size = [2]\n",
    "\n",
    "Unit_size = [16, 32]\n",
    "\n",
    "Learning_rate = [0.1]\n",
    "\n",
    "Epochs = [10, 20]\n",
    "\n",
    "\n",
    "That means there will be 1 * 2 * 1 * 2 = 4 graphs"
   ]
  },
  {
   "cell_type": "code",
   "execution_count": null,
   "metadata": {
    "colab": {
     "background_save": true
    },
    "id": "_mHGqCjDpjEs",
    "outputId": "f49619da-bd2b-4c52-f564-eec068c294fb"
   },
   "outputs": [
    {
     "name": "stdout",
     "output_type": "stream",
     "text": [
      "3337_Task3.ipynb  q2ACCs.csv  q4ACCs.csv  sub1.gdoc\n",
      "q1ACCs.csv\t  q3ACCs.csv  q5ACCs.csv  Task3.gdoc\n",
      "CPU times: user 16min 52s, sys: 1min 21s, total: 18min 14s\n",
      "Wall time: 14min 44s\n"
     ]
    }
   ],
   "source": [
    "# Question 3: \n",
    "# This codeblock produces and evaluates each model, and saves the qxACCs\n",
    "%%time\n",
    "q3ACCs = []\n",
    "for U in [16,32]:\n",
    "  for E in [10,20]:\n",
    "    ACC = []\n",
    "    for B in BATCH:\n",
    "      special_model = create_model(num_layers=2, num_units=U, flattened_size=x_test.shape[1], \n",
    "                            activation_function='sigmoid', class_size=num_classes)\n",
    "      loss, acc = evaluate(FCmodel=special_model, Learning_Rate=0.1, batch_sz=B, epochs=E, add_visualization=False)\n",
    "      ACC.append(acc)\n",
    "    q3ACCs.append(ACC)\n",
    "save(\"q3ACCs.csv\",q3ACCs)"
   ]
  },
  {
   "cell_type": "code",
   "execution_count": null,
   "metadata": {
    "colab": {
     "base_uri": "https://localhost:8080/"
    },
    "id": "lGGb4K4Y9ut6",
    "outputId": "9bc7f03a-6172-42ee-eb56-39583cb5cdf1"
   },
   "outputs": [
    {
     "name": "stdout",
     "output_type": "stream",
     "text": [
      "/content/drive/MyDrive/1 BS in CS/Semester 5 (Fall 2021)/3337 Data Science/Task 3\n",
      "/content/drive/MyDrive/1 BS in CS/Semester 5 (Fall 2021)/3337 Data Science/Task 3\n"
     ]
    }
   ],
   "source": [
    "#if you already ran the above block and just want to retrieve the q3ACCs, run this block\n",
    "q3ACCs = load(\"q3ACCs.csv\")"
   ]
  },
  {
   "cell_type": "code",
   "execution_count": null,
   "metadata": {
    "colab": {
     "base_uri": "https://localhost:8080/",
     "height": 1000
    },
    "id": "K1vxprO3KlZu",
    "outputId": "f71e9bcf-e27f-4663-aea1-d1e2903c7bae"
   },
   "outputs": [
    {
     "data": {
      "image/png": "[encoded data removed]",
      "text/plain": [
       "<Figure size 432x288 with 1 Axes>"
      ]
     },
     "metadata": {
      "needs_background": "light"
     },
     "output_type": "display_data"
    },
    {
     "data": {
      "image/png": "[encoded data removed]",
      "text/plain": [
       "<Figure size 432x288 with 1 Axes>"
      ]
     },
     "metadata": {
      "needs_background": "light"
     },
     "output_type": "display_data"
    },
    {
     "data": {
      "image/png": "[encoded data removed]",
      "text/plain": [
       "<Figure size 432x288 with 1 Axes>"
      ]
     },
     "metadata": {
      "needs_background": "light"
     },
     "output_type": "display_data"
    },
    {
     "data": {
      "image/png": "[encoded data removed]",
      "text/plain": [
       "<Figure size 432x288 with 1 Axes>"
      ]
     },
     "metadata": {
      "needs_background": "light"
     },
     "output_type": "display_data"
    }
   ],
   "source": [
    "# Question 3\n",
    "# This codeblock only produces the graphs\n",
    "i = 0\n",
    "for U in [16,32]:\n",
    "  for E in [10,20]:\n",
    "    plt.plot(BATCH, q3ACCs[i])\n",
    "    plt.xticks(BATCH)\n",
    "    plt.xlabel(\"Batch_size\")\n",
    "    plt.ylabel(\"Accuracy\")\n",
    "    TITLE = \"Batch_size vs Acc\\nUnit size {}, Epoch {}, Layer size 2, Learning rate 0.1\".format(U, E)\n",
    "    plt.title(TITLE)\n",
    "    plt.show()\n",
    "    i += 1"
   ]
  },
  {
   "cell_type": "markdown",
   "metadata": {
    "id": "vJpEE2GtLRCG"
   },
   "source": [
    "###**Question 4**\n",
    "create a Learning rate-vs-accuracy graph for the following setting:\n",
    "\n",
    "Layer size = [2]\n",
    "\n",
    "Unit_size = [16, 32]\n",
    "\n",
    "Batch_size = [16]\n",
    "\n",
    "Epochs = [10, 20]\n",
    "\n",
    "That means there will be 1 * 2 * 1 * 2 = 4 graphs"
   ]
  },
  {
   "cell_type": "code",
   "execution_count": null,
   "metadata": {
    "colab": {
     "base_uri": "https://localhost:8080/"
    },
    "id": "Kjvzp94a-UW4",
    "outputId": "3f4021f8-34d6-4ccb-d8d2-90732c3cd08e"
   },
   "outputs": [
    {
     "name": "stdout",
     "output_type": "stream",
     "text": [
      "CPU times: user 21min, sys: 1min 39s, total: 22min 40s\n",
      "Wall time: 18min 18s\n"
     ]
    }
   ],
   "source": [
    "# Question 4\n",
    "# This codeblock produces and evaluates each model, and saves the qxACCs\n",
    "%%time\n",
    "q4ACCs = []\n",
    "for U in [16,32]:\n",
    "  for E in [10,20]:\n",
    "    ACC = []\n",
    "    for L in LEARNING_RATE:\n",
    "      special_model = create_model(num_layers=2, num_units=U, flattened_size=x_test.shape[1], \n",
    "                            activation_function='sigmoid', class_size=num_classes)\n",
    "      loss, acc = evaluate(FCmodel=special_model, Learning_Rate=L, batch_sz=16, epochs=E, add_visualization=False)\n",
    "      ACC.append(acc)\n",
    "    q4ACCs.append(ACC)\n",
    "save(\"q4ACCs.csv\",q4ACCs)"
   ]
  },
  {
   "cell_type": "code",
   "execution_count": null,
   "metadata": {
    "colab": {
     "base_uri": "https://localhost:8080/"
    },
    "id": "WFuxsOtj8Hoh",
    "outputId": "9e7c6541-a84a-4178-ff30-30bb7a514a0e"
   },
   "outputs": [
    {
     "name": "stdout",
     "output_type": "stream",
     "text": [
      "/content/drive/MyDrive/1 BS in CS/Semester 5 (Fall 2021)/3337 Data Science/Task 3\n",
      "/content/drive/MyDrive/1 BS in CS/Semester 5 (Fall 2021)/3337 Data Science/Task 3\n"
     ]
    }
   ],
   "source": [
    "#if you already ran the above block and just want to retrieve the q4ACCs, run this block\n",
    "q4ACCs = load(\"q4ACCs.csv\")"
   ]
  },
  {
   "cell_type": "code",
   "execution_count": null,
   "metadata": {
    "colab": {
     "base_uri": "https://localhost:8080/",
     "height": 1000
    },
    "id": "PzpY_sYhMqqM",
    "outputId": "a6fa1f62-fcb9-49ec-c599-5e684fdd208f"
   },
   "outputs": [
    {
     "data": {
      "image/png": "[encoded data removed]",
      "text/plain": [
       "<Figure size 432x288 with 1 Axes>"
      ]
     },
     "metadata": {
      "needs_background": "light"
     },
     "output_type": "display_data"
    },
    {
     "data": {
      "image/png": "[encoded data removed]",
      "text/plain": [
       "<Figure size 432x288 with 1 Axes>"
      ]
     },
     "metadata": {
      "needs_background": "light"
     },
     "output_type": "display_data"
    },
    {
     "data": {
      "image/png": "[encoded data removed]",
      "text/plain": [
       "<Figure size 432x288 with 1 Axes>"
      ]
     },
     "metadata": {
      "needs_background": "light"
     },
     "output_type": "display_data"
    },
    {
     "data": {
      "image/png": "[encoded data removed]",
      "text/plain": [
       "<Figure size 432x288 with 1 Axes>"
      ]
     },
     "metadata": {
      "needs_background": "light"
     },
     "output_type": "display_data"
    }
   ],
   "source": [
    "# Question 4\n",
    "# This codeblock only produces the graphs\n",
    "i = 0\n",
    "for U in [16,32]:\n",
    "  for E in [10,20]:\n",
    "    plt.plot(LEARNING_RATE, q4ACCs[i])\n",
    "    plt.xscale('log')\n",
    "    plt.xticks(LEARNING_RATE)\n",
    "    plt.xlabel(\"Learning_rate\")\n",
    "    plt.ylabel(\"Accuracy\")\n",
    "    TITLE = \"Learning_rate vs Acc\\nUnit size {}, Epoch {}, Layer size 2, Batch size 16\".format(U, E)\n",
    "    plt.title(TITLE)\n",
    "    plt.show()\n",
    "    i += 1"
   ]
  },
  {
   "cell_type": "markdown",
   "metadata": {
    "id": "XFMUlDdFhm94"
   },
   "source": [
    "###**Question 5**\n",
    "create a Epoch size-vs-accuracy graph for the following setting:\n",
    "\n",
    "Layer size = [2]\n",
    "\n",
    "Unit_size = [32]\n",
    "\n",
    "Batch_size = [8, 16]\n",
    "\n",
    "Learning_rate = [0.1]\n",
    "\n",
    "That means there will be 1 * 1 * 2 * 1 = 2 graphs\n"
   ]
  },
  {
   "cell_type": "code",
   "execution_count": null,
   "metadata": {
    "colab": {
     "background_save": true
    },
    "id": "eWu1GEHHh3Lv"
   },
   "outputs": [],
   "source": [
    "# Question 5\n",
    "# This codeblock produces and evaluates each model, and saves the qxACCs\n",
    "q5ACCs = []\n",
    "for B in [8,16]:\n",
    "  ACC = []\n",
    "  for E in EPOCHS:\n",
    "    special_model = create_model(num_layers=2, num_units=32, flattened_size=x_test.shape[1], \n",
    "                            activation_function='sigmoid', class_size=num_classes)\n",
    "    loss, acc = evaluate(FCmodel=special_model, Learning_Rate=0.1, batch_sz=B, epochs=E, add_visualization=False)\n",
    "    ACC.append(acc)\n",
    "  q5ACCs.append(ACC)\n",
    "save(\"q5ACCs.csv\",q5ACCs)"
   ]
  },
  {
   "cell_type": "code",
   "execution_count": null,
   "metadata": {
    "colab": {
     "base_uri": "https://localhost:8080/"
    },
    "id": "NJbxehbf87iB",
    "outputId": "c9190266-1ef6-4391-da3f-c24a4a1bb517"
   },
   "outputs": [
    {
     "name": "stdout",
     "output_type": "stream",
     "text": [
      "/content/drive/MyDrive/1 BS in CS/Semester 5 (Fall 2021)/3337 Data Science/Task 3\n",
      "/content/drive/MyDrive/1 BS in CS/Semester 5 (Fall 2021)/3337 Data Science/Task 3\n"
     ]
    }
   ],
   "source": [
    "#if you already ran the above block before and just want to retrieve the q5ACCs, run this block\n",
    "q5ACCs = load(\"q5ACCs.csv\")"
   ]
  },
  {
   "cell_type": "code",
   "execution_count": null,
   "metadata": {
    "colab": {
     "base_uri": "https://localhost:8080/",
     "height": 605
    },
    "id": "p6CpyiiaioH-",
    "outputId": "ec4daf60-364f-42dd-af5d-7d74c283b7e5"
   },
   "outputs": [
    {
     "data": {
      "image/png": "[encoded data removed]",
      "text/plain": [
       "<Figure size 432x288 with 1 Axes>"
      ]
     },
     "metadata": {
      "needs_background": "light"
     },
     "output_type": "display_data"
    },
    {
     "data": {
      "image/png": "[encoded data removed]",
      "text/plain": [
       "<Figure size 432x288 with 1 Axes>"
      ]
     },
     "metadata": {
      "needs_background": "light"
     },
     "output_type": "display_data"
    }
   ],
   "source": [
    "# Question 5\n",
    "# This codeblock only produces the graphs\n",
    "i = 0\n",
    "for B in [8,16]:\n",
    "  plt.plot(EPOCHS, q5ACCs[i])\n",
    "  plt.xticks(EPOCHS)\n",
    "  plt.xlabel(\"Epoch_size\")\n",
    "  plt.ylabel(\"Accuracy\")\n",
    "  TITLE = \"Epoch_size vs Acc\\nUnit size 32, Layer size 2, Learning rate 0.1, Batch size {}\".format(B)\n",
    "  plt.title(TITLE)\n",
    "  plt.show()\n",
    "  i += 1"
   ]
  },
  {
   "cell_type": "markdown",
   "metadata": {
    "id": "3Xxa6EmgHAd7"
   },
   "source": [
    "##**Subtask 2**\n",
    "\n",
    "Grid search of hyperparameters to find the best set of hyperparameters.\n",
    "\n",
    "Rank the best set of parameters among the following settings:\n",
    "\n",
    "LAYERS = [2, 3, 4]\n",
    "\n",
    "UNITS = [16, 64]\n",
    "\n",
    "BATCH_SIZE = [8, 32, 128]\n",
    "\n",
    "LEARNING_RATE = [0.1, 0.01, 0.001, 0.0001, 0.00001]\n",
    "\n",
    "EPOCHS = [10, 20, 30]\n",
    "\n",
    "\n",
    "Also comment the three best and three worst setting of hyperparameters"
   ]
  },
  {
   "cell_type": "markdown",
   "metadata": {
    "id": "-palEL_YVUvU"
   },
   "source": [
    "###**Function Definitions**"
   ]
  },
  {
   "cell_type": "code",
   "execution_count": 24,
   "metadata": {
    "id": "f_WmUSGmAUvT"
   },
   "outputs": [],
   "source": [
    "def createModelsAndEvaluate(LAYERS, UNITS, BATCH_SIZE, LEARNING_RATE, EPOCHS, num_classes):\n",
    "  rows = []\n",
    "  for L in LAYERS:\n",
    "    for U in UNITS:\n",
    "      for B in BATCH_SIZE:\n",
    "        for R in LEARNING_RATE:\n",
    "          for E in EPOCHS:\n",
    "            model = create_model(num_layers=L, num_units=U, flattened_size=x_test.shape[1], \n",
    "                            activation_function='sigmoid', class_size=num_classes)\n",
    "            loss, acc = evaluate(FCmodel=model, Learning_Rate=R, batch_sz=B, epochs=E, add_visualization=False)\n",
    "            rows.append([L,U,B,R,E,acc]) \n",
    "  return rows\n"
   ]
  },
  {
   "cell_type": "code",
   "execution_count": 25,
   "metadata": {
    "id": "c0DlcFgPCgKB"
   },
   "outputs": [],
   "source": [
    "def hyperparameter_ranking(data) ->pd.DataFrame:\n",
    "  '''\n",
    "  Your code should return a DataFrame where columns will be LAYERS, UNITS, BATCH_SIZE, LEARNING_RATE, EPOCHS and corresponding accuracy.\n",
    "  The dataframe MUST be sorted in descending order based on the accuracy like the following cell. There will be 270 row\n",
    "  '''\n",
    "  columnNames = [\"LAYERS\",\"UNITS\",\"BATCH_SIZE\",\"LEARNING_RATE\", \"EPOCHS\",\"Accuracy\"]\n",
    "  return pd.DataFrame(data, columns = columnNames).sort_values(by=\"Accuracy\", ascending=False, ignore_index=True)\n",
    "  "
   ]
  },
  {
   "cell_type": "markdown",
   "metadata": {
    "id": "QGAJHO35VaRc"
   },
   "source": [
    "###**Execution**"
   ]
  },
  {
   "cell_type": "code",
   "execution_count": 46,
   "metadata": {
    "id": "jFVI_6UE-9ZX"
   },
   "outputs": [],
   "source": [
    "LAYERS = [2, 3, 4]\n",
    "UNITS = [16, 64]\n",
    "BATCH_SIZE = [8, 32, 128]\n",
    "LEARNING_RATE = [0.1, 0.01, 0.001, 0.0001, 0.00001]\n",
    "EPOCHS = [10, 20, 30]"
   ]
  },
  {
   "cell_type": "code",
   "execution_count": null,
   "metadata": {
    "id": "4E9bIXM4CJhD"
   },
   "outputs": [],
   "source": [
    "#this will create the models, evaluate them, and aggregate parameters and related accuracies \n",
    "#into a list called data, and then it will save the data so we can reload it later\n",
    "%%time\n",
    "subTask2_data = createModelsAndEvaluate(LAYERS, UNITS, BATCH_SIZE, LEARNING_RATE, EPOCHS, num_classes)\n",
    "save(\"subTask2_data.csv\", subTask2_data)"
   ]
  },
  {
   "cell_type": "code",
   "execution_count": 26,
   "metadata": {
    "colab": {
     "base_uri": "https://localhost:8080/"
    },
    "id": "O44PzdItFRki",
    "outputId": "c0190b34-32b7-42ea-fc99-1550a2ab65e1"
   },
   "outputs": [
    {
     "name": "stdout",
     "output_type": "stream",
     "text": [
      "/content/drive/MyDrive/1 BS in CS/Semester 5 (Fall 2021)/3337 Data Science/Task 3\n"
     ]
    }
   ],
   "source": [
    "#if you already ran the above code before, don't rerun it, instead just load the data from the saved file\n",
    "subTask2_data = load(\"subTask2_data.csv\")"
   ]
  },
  {
   "cell_type": "code",
   "execution_count": 28,
   "metadata": {
    "id": "dlXA7M0nD3Rb"
   },
   "outputs": [],
   "source": [
    "#this will rank (sort) the models based on their accuracies\n",
    "subTask2_data = hyperparameter_ranking(subTask2_data)"
   ]
  },
  {
   "cell_type": "code",
   "execution_count": 29,
   "metadata": {
    "colab": {
     "base_uri": "https://localhost:8080/",
     "height": 204
    },
    "id": "AR-rhtC_HdW6",
    "outputId": "52812759-e929-4e6c-ea45-0660f5e5b5c8"
   },
   "outputs": [
    {
     "data": {
      "text/html": [
       "<div>\n",
       "<style scoped>\n",
       "    .dataframe tbody tr th:only-of-type {\n",
       "        vertical-align: middle;\n",
       "    }\n",
       "\n",
       "    .dataframe tbody tr th {\n",
       "        vertical-align: top;\n",
       "    }\n",
       "\n",
       "    .dataframe thead th {\n",
       "        text-align: right;\n",
       "    }\n",
       "</style>\n",
       "<table border=\"1\" class=\"dataframe\">\n",
       "  <thead>\n",
       "    <tr style=\"text-align: right;\">\n",
       "      <th></th>\n",
       "      <th>LAYERS</th>\n",
       "      <th>UNITS</th>\n",
       "      <th>BATCH_SIZE</th>\n",
       "      <th>LEARNING_RATE</th>\n",
       "      <th>EPOCHS</th>\n",
       "      <th>Accuracy</th>\n",
       "    </tr>\n",
       "  </thead>\n",
       "  <tbody>\n",
       "    <tr>\n",
       "      <th>0</th>\n",
       "      <td>2.0</td>\n",
       "      <td>64.0</td>\n",
       "      <td>8.0</td>\n",
       "      <td>0.001</td>\n",
       "      <td>30.0</td>\n",
       "      <td>0.932833</td>\n",
       "    </tr>\n",
       "    <tr>\n",
       "      <th>1</th>\n",
       "      <td>2.0</td>\n",
       "      <td>64.0</td>\n",
       "      <td>32.0</td>\n",
       "      <td>0.010</td>\n",
       "      <td>30.0</td>\n",
       "      <td>0.927750</td>\n",
       "    </tr>\n",
       "    <tr>\n",
       "      <th>2</th>\n",
       "      <td>2.0</td>\n",
       "      <td>64.0</td>\n",
       "      <td>32.0</td>\n",
       "      <td>0.010</td>\n",
       "      <td>20.0</td>\n",
       "      <td>0.923583</td>\n",
       "    </tr>\n",
       "    <tr>\n",
       "      <th>3</th>\n",
       "      <td>2.0</td>\n",
       "      <td>64.0</td>\n",
       "      <td>8.0</td>\n",
       "      <td>0.001</td>\n",
       "      <td>20.0</td>\n",
       "      <td>0.922917</td>\n",
       "    </tr>\n",
       "    <tr>\n",
       "      <th>4</th>\n",
       "      <td>2.0</td>\n",
       "      <td>64.0</td>\n",
       "      <td>128.0</td>\n",
       "      <td>0.010</td>\n",
       "      <td>30.0</td>\n",
       "      <td>0.922083</td>\n",
       "    </tr>\n",
       "  </tbody>\n",
       "</table>\n",
       "</div>"
      ],
      "text/plain": [
       "   LAYERS  UNITS  BATCH_SIZE  LEARNING_RATE  EPOCHS  Accuracy\n",
       "0     2.0   64.0         8.0          0.001    30.0  0.932833\n",
       "1     2.0   64.0        32.0          0.010    30.0  0.927750\n",
       "2     2.0   64.0        32.0          0.010    20.0  0.923583\n",
       "3     2.0   64.0         8.0          0.001    20.0  0.922917\n",
       "4     2.0   64.0       128.0          0.010    30.0  0.922083"
      ]
     },
     "execution_count": 29,
     "metadata": {},
     "output_type": "execute_result"
    }
   ],
   "source": [
    "#get first five rows from the dataframe\n",
    "subTask2_data.head()"
   ]
  },
  {
   "cell_type": "code",
   "execution_count": 30,
   "metadata": {
    "colab": {
     "base_uri": "https://localhost:8080/",
     "height": 204
    },
    "id": "lYKtKKR11mY4",
    "outputId": "6ac3ddff-be3a-4a03-8c90-ec2581864a01"
   },
   "outputs": [
    {
     "data": {
      "text/html": [
       "<div>\n",
       "<style scoped>\n",
       "    .dataframe tbody tr th:only-of-type {\n",
       "        vertical-align: middle;\n",
       "    }\n",
       "\n",
       "    .dataframe tbody tr th {\n",
       "        vertical-align: top;\n",
       "    }\n",
       "\n",
       "    .dataframe thead th {\n",
       "        text-align: right;\n",
       "    }\n",
       "</style>\n",
       "<table border=\"1\" class=\"dataframe\">\n",
       "  <thead>\n",
       "    <tr style=\"text-align: right;\">\n",
       "      <th></th>\n",
       "      <th>LAYERS</th>\n",
       "      <th>UNITS</th>\n",
       "      <th>BATCH_SIZE</th>\n",
       "      <th>LEARNING_RATE</th>\n",
       "      <th>EPOCHS</th>\n",
       "      <th>Accuracy</th>\n",
       "    </tr>\n",
       "  </thead>\n",
       "  <tbody>\n",
       "    <tr>\n",
       "      <th>265</th>\n",
       "      <td>3.0</td>\n",
       "      <td>64.0</td>\n",
       "      <td>128.0</td>\n",
       "      <td>0.00010</td>\n",
       "      <td>10.0</td>\n",
       "      <td>0.093167</td>\n",
       "    </tr>\n",
       "    <tr>\n",
       "      <th>266</th>\n",
       "      <td>3.0</td>\n",
       "      <td>64.0</td>\n",
       "      <td>32.0</td>\n",
       "      <td>0.00001</td>\n",
       "      <td>30.0</td>\n",
       "      <td>0.091000</td>\n",
       "    </tr>\n",
       "    <tr>\n",
       "      <th>267</th>\n",
       "      <td>3.0</td>\n",
       "      <td>64.0</td>\n",
       "      <td>8.0</td>\n",
       "      <td>0.00001</td>\n",
       "      <td>10.0</td>\n",
       "      <td>0.087083</td>\n",
       "    </tr>\n",
       "    <tr>\n",
       "      <th>268</th>\n",
       "      <td>3.0</td>\n",
       "      <td>64.0</td>\n",
       "      <td>128.0</td>\n",
       "      <td>0.00010</td>\n",
       "      <td>20.0</td>\n",
       "      <td>0.085333</td>\n",
       "    </tr>\n",
       "    <tr>\n",
       "      <th>269</th>\n",
       "      <td>4.0</td>\n",
       "      <td>64.0</td>\n",
       "      <td>128.0</td>\n",
       "      <td>0.00010</td>\n",
       "      <td>20.0</td>\n",
       "      <td>0.060667</td>\n",
       "    </tr>\n",
       "  </tbody>\n",
       "</table>\n",
       "</div>"
      ],
      "text/plain": [
       "     LAYERS  UNITS  BATCH_SIZE  LEARNING_RATE  EPOCHS  Accuracy\n",
       "265     3.0   64.0       128.0        0.00010    10.0  0.093167\n",
       "266     3.0   64.0        32.0        0.00001    30.0  0.091000\n",
       "267     3.0   64.0         8.0        0.00001    10.0  0.087083\n",
       "268     3.0   64.0       128.0        0.00010    20.0  0.085333\n",
       "269     4.0   64.0       128.0        0.00010    20.0  0.060667"
      ]
     },
     "execution_count": 30,
     "metadata": {},
     "output_type": "execute_result"
    }
   ],
   "source": [
    "#get last five rows from the dataframe\n",
    "subTask2_data.tail()"
   ]
  },
  {
   "cell_type": "code",
   "execution_count": 31,
   "metadata": {
    "colab": {
     "base_uri": "https://localhost:8080/",
     "height": 142
    },
    "id": "XoaEBF84Vm20",
    "outputId": "036bf2dc-7eb9-484c-cecb-84e5fdfcae83"
   },
   "outputs": [
    {
     "data": {
      "text/html": [
       "<div>\n",
       "<style scoped>\n",
       "    .dataframe tbody tr th:only-of-type {\n",
       "        vertical-align: middle;\n",
       "    }\n",
       "\n",
       "    .dataframe tbody tr th {\n",
       "        vertical-align: top;\n",
       "    }\n",
       "\n",
       "    .dataframe thead th {\n",
       "        text-align: right;\n",
       "    }\n",
       "</style>\n",
       "<table border=\"1\" class=\"dataframe\">\n",
       "  <thead>\n",
       "    <tr style=\"text-align: right;\">\n",
       "      <th></th>\n",
       "      <th>LAYERS</th>\n",
       "      <th>UNITS</th>\n",
       "      <th>BATCH_SIZE</th>\n",
       "      <th>LEARNING_RATE</th>\n",
       "      <th>EPOCHS</th>\n",
       "      <th>Accuracy</th>\n",
       "    </tr>\n",
       "  </thead>\n",
       "  <tbody>\n",
       "    <tr>\n",
       "      <th>0</th>\n",
       "      <td>2.0</td>\n",
       "      <td>64.0</td>\n",
       "      <td>8.0</td>\n",
       "      <td>0.001</td>\n",
       "      <td>30.0</td>\n",
       "      <td>0.932833</td>\n",
       "    </tr>\n",
       "    <tr>\n",
       "      <th>1</th>\n",
       "      <td>2.0</td>\n",
       "      <td>64.0</td>\n",
       "      <td>32.0</td>\n",
       "      <td>0.010</td>\n",
       "      <td>30.0</td>\n",
       "      <td>0.927750</td>\n",
       "    </tr>\n",
       "    <tr>\n",
       "      <th>2</th>\n",
       "      <td>2.0</td>\n",
       "      <td>64.0</td>\n",
       "      <td>32.0</td>\n",
       "      <td>0.010</td>\n",
       "      <td>20.0</td>\n",
       "      <td>0.923583</td>\n",
       "    </tr>\n",
       "  </tbody>\n",
       "</table>\n",
       "</div>"
      ],
      "text/plain": [
       "   LAYERS  UNITS  BATCH_SIZE  LEARNING_RATE  EPOCHS  Accuracy\n",
       "0     2.0   64.0         8.0          0.001    30.0  0.932833\n",
       "1     2.0   64.0        32.0          0.010    30.0  0.927750\n",
       "2     2.0   64.0        32.0          0.010    20.0  0.923583"
      ]
     },
     "execution_count": 31,
     "metadata": {},
     "output_type": "execute_result"
    }
   ],
   "source": [
    "#Also comment the three best settings of hyperparameters\n",
    "subTask2_data.head(3)"
   ]
  },
  {
   "cell_type": "code",
   "execution_count": 32,
   "metadata": {
    "colab": {
     "base_uri": "https://localhost:8080/",
     "height": 142
    },
    "id": "NORtE5_RVvwG",
    "outputId": "5692b782-3452-479b-f028-a08164a46570"
   },
   "outputs": [
    {
     "data": {
      "text/html": [
       "<div>\n",
       "<style scoped>\n",
       "    .dataframe tbody tr th:only-of-type {\n",
       "        vertical-align: middle;\n",
       "    }\n",
       "\n",
       "    .dataframe tbody tr th {\n",
       "        vertical-align: top;\n",
       "    }\n",
       "\n",
       "    .dataframe thead th {\n",
       "        text-align: right;\n",
       "    }\n",
       "</style>\n",
       "<table border=\"1\" class=\"dataframe\">\n",
       "  <thead>\n",
       "    <tr style=\"text-align: right;\">\n",
       "      <th></th>\n",
       "      <th>LAYERS</th>\n",
       "      <th>UNITS</th>\n",
       "      <th>BATCH_SIZE</th>\n",
       "      <th>LEARNING_RATE</th>\n",
       "      <th>EPOCHS</th>\n",
       "      <th>Accuracy</th>\n",
       "    </tr>\n",
       "  </thead>\n",
       "  <tbody>\n",
       "    <tr>\n",
       "      <th>267</th>\n",
       "      <td>3.0</td>\n",
       "      <td>64.0</td>\n",
       "      <td>8.0</td>\n",
       "      <td>0.00001</td>\n",
       "      <td>10.0</td>\n",
       "      <td>0.087083</td>\n",
       "    </tr>\n",
       "    <tr>\n",
       "      <th>268</th>\n",
       "      <td>3.0</td>\n",
       "      <td>64.0</td>\n",
       "      <td>128.0</td>\n",
       "      <td>0.00010</td>\n",
       "      <td>20.0</td>\n",
       "      <td>0.085333</td>\n",
       "    </tr>\n",
       "    <tr>\n",
       "      <th>269</th>\n",
       "      <td>4.0</td>\n",
       "      <td>64.0</td>\n",
       "      <td>128.0</td>\n",
       "      <td>0.00010</td>\n",
       "      <td>20.0</td>\n",
       "      <td>0.060667</td>\n",
       "    </tr>\n",
       "  </tbody>\n",
       "</table>\n",
       "</div>"
      ],
      "text/plain": [
       "     LAYERS  UNITS  BATCH_SIZE  LEARNING_RATE  EPOCHS  Accuracy\n",
       "267     3.0   64.0         8.0        0.00001    10.0  0.087083\n",
       "268     3.0   64.0       128.0        0.00010    20.0  0.085333\n",
       "269     4.0   64.0       128.0        0.00010    20.0  0.060667"
      ]
     },
     "execution_count": 32,
     "metadata": {},
     "output_type": "execute_result"
    }
   ],
   "source": [
    "#and three worst settings of hyperparameters\n",
    "subTask2_data.tail(3)"
   ]
  },
  {
   "cell_type": "markdown",
   "metadata": {
    "id": "4f_7C0zw9UCa"
   },
   "source": [
    "## **Subtask 3**\n",
    "Advanced Hyperparameter Optimization\n",
    "\n",
    "In this task, you have to find some advanced hyperparameters:\n",
    "\n",
    "Optimizers = [SGD, Adam, RMSprop, Adagrad] \n",
    "\n",
    "[read more about Optimizers](https://keras.io/api/optimizers/)\n",
    "\n",
    "Dropout_Rates = [0, 0.2, 0.5] \n",
    "\n",
    "[read more about Dropout rate](https://keras.io/api/layers/regularization_layers/dropout/)\n",
    "\n",
    "Kernel_Initializers = [random_uniform, glorot_normal, random_normal, zeros] \n",
    "\n",
    "[read more about Kernel initializers](https://keras.io/api/layers/initializers/)\n",
    "\n",
    "\n",
    "Special Note: You will investigate different settings for these hyperparameters as well. For example, for ADAM, there are beta_1 and beta_2 values. You can assume them to be default value (0.9 and 0.999). For other Optimizers, and kernel intializers, you can assume their default value for this subtask\n",
    "\n",
    "Follow the steps below:"
   ]
  },
  {
   "cell_type": "markdown",
   "metadata": {
    "id": "e61YViBu-IoH"
   },
   "source": [
    "### **Step 1** \n",
    "\n",
    "Choose the best set of parameters from the subtask2. This will be the first entry from the dataframe table."
   ]
  },
  {
   "cell_type": "code",
   "execution_count": 33,
   "metadata": {
    "colab": {
     "base_uri": "https://localhost:8080/"
    },
    "id": "YoCkEcTm-1Hw",
    "outputId": "325f03f8-d226-4b17-bfcd-9891cf5a518e"
   },
   "outputs": [
    {
     "data": {
      "text/plain": [
       "LAYERS            2.000000\n",
       "UNITS            64.000000\n",
       "BATCH_SIZE        8.000000\n",
       "LEARNING_RATE     0.001000\n",
       "EPOCHS           30.000000\n",
       "Accuracy          0.932833\n",
       "Name: 0, dtype: float64"
      ]
     },
     "execution_count": 33,
     "metadata": {},
     "output_type": "execute_result"
    }
   ],
   "source": [
    "best_hyperparameters = subTask2_data.iloc[0]\n",
    "best_hyperparameters"
   ]
  },
  {
   "cell_type": "markdown",
   "metadata": {
    "id": "1xAeRt9j-Iwi"
   },
   "source": [
    "###**Step 2**\n",
    "\n",
    "Modify the function create_model by creating the new function create_model_subtask3 that additionally considers the Dropout rate, and Kernel Initializer! For dropout this can be done as follow: \n",
    "\n",
    "model.add..................... model.add(Dropout(0))"
   ]
  },
  {
   "cell_type": "code",
   "execution_count": 34,
   "metadata": {
    "id": "NgQrOvBpAjh_"
   },
   "outputs": [],
   "source": [
    "def create_model_subtask3(kernel_init, dropout_rate, flattened_size, activation_function, class_size, \n",
    "                          num_layers = best_hyperparameters[\"LAYERS\"], num_units = best_hyperparameters[\"UNITS\"]):\n",
    "  '''\n",
    "  We create a neural network in this function. You can choose the layer size, the units perlayer, activation function,\n",
    "  and size of the class. This function creates the basic architecture required to handle the tasks.\n",
    "  '''\n",
    "  seed(37)\n",
    "  random.seed(37)\n",
    "  tf.random.set_seed(37)\n",
    "  model = Sequential()\n",
    "\n",
    "  if kernel_init == \"random_uniform\":\n",
    "    initializer = initializers.random_uniform\n",
    "  elif kernel_init == \"glorot_normal\":\n",
    "    initializer = initializers.glorot_normal\n",
    "  elif kernel_init == \"random_normal\":\n",
    "    initializer = initializers.random_normal\n",
    "  elif kernel_init == \"zeros\":\n",
    "    initializer = initializers.zeros\n",
    "\n",
    "  model.add(Dense(kernel_initializer=initializer, units=num_units, activation=activation_function, input_shape=(flattened_size,)))\n",
    "  for i in range(int(num_layers)-1):\n",
    "    model.add(Dense(kernel_initializer=initializer,units=num_units, activation=activation_function))\n",
    "  model.add(Dense(kernel_initializer=initializer,units=num_classes, activation='softmax'))\n",
    "  model.add(Dropout(rate = dropout_rate))\n",
    "  return model"
   ]
  },
  {
   "cell_type": "markdown",
   "metadata": {
    "id": "30B8ypeQ-fem"
   },
   "source": [
    "###**Step 3**\n",
    "\n",
    "Modify the function evaluate to evaluate_subtask3 to account for the optimizers"
   ]
  },
  {
   "cell_type": "code",
   "execution_count": 35,
   "metadata": {
    "id": "Wu9GGOZRCKyb"
   },
   "outputs": [],
   "source": [
    "def evaluate_subtask3(optimizerSTR, FCmodel, \n",
    "                      Learning_Rate = best_hyperparameters[\"LEARNING_RATE\"], batch_sz = best_hyperparameters[\"BATCH_SIZE\"], epochs = best_hyperparameters[\"EPOCHS\"], add_visualization=True):\n",
    "  '''\n",
    "  This function will run and evaluate the neural network. \n",
    "  *** Important: DoNOT change the seed values. This will ensure the reproducibility of the experiments.\n",
    "  '''\n",
    "  seed(37)\n",
    "  random.seed(37)\n",
    "  tf.random.set_seed(37)\n",
    "\n",
    "  if optimizerSTR == \"SGD\":\n",
    "    opt = tf.keras.optimizers.SGD(learning_rate=Learning_Rate)\n",
    "  elif optimizerSTR == \"Adam\":\n",
    "    opt = tf.keras.optimizers.Adam(learning_rate=Learning_Rate)\n",
    "  elif optimizerSTR == \"RMSprop\":\n",
    "    opt = tf.keras.optimizers.RMSprop(learning_rate=Learning_Rate)\n",
    "  elif optimizerSTR == \"Adagrad\":\n",
    "    opt = tf.keras.optimizers.Adagrad(learning_rate=Learning_Rate)\n",
    "\n",
    "\n",
    "  FCmodel.compile(optimizer=opt, loss='categorical_crossentropy', metrics=['accuracy'])\n",
    "  history = FCmodel.fit(x_train, y_train, batch_size=int(batch_sz), epochs=int(epochs), \n",
    "                        verbose=add_visualization, validation_data=(x_valid, y_valid))\n",
    "  loss, accuracy  = FCmodel.evaluate(x_valid, y_valid, verbose=False)\n",
    "\n",
    "  # if add_visualization:\n",
    "  #   print(f'validation loss: {loss:.4}')\n",
    "  #   print(f'validation accuracy: {accuracy:.4}')\n",
    "\n",
    "  #   plt.plot(history.history['accuracy'])\n",
    "  #   plt.plot(history.history['val_accuracy'])\n",
    "  #   plt.title('model performance')\n",
    "  #   plt.ylabel('accuracy')\n",
    "  #   plt.xlabel('epoch')\n",
    "  #   plt.legend(['training', 'validation'], loc='best')\n",
    "  #   plt.show()\n",
    "\n",
    "\n",
    "  return loss, accuracy"
   ]
  },
  {
   "cell_type": "markdown",
   "metadata": {
    "id": "C00401pcWXNj"
   },
   "source": [
    "###**Step 4**\n"
   ]
  },
  {
   "cell_type": "code",
   "execution_count": 53,
   "metadata": {
    "id": "eK84UHEuWgd5"
   },
   "outputs": [],
   "source": [
    "def createModelsAndEvaluate_subtask3(Kernel_Initializers, Dropout_Rates, Optimizers, num_classes):\n",
    "  rows = []\n",
    "  numModels = len(Kernel_Initializers) * len(Dropout_Rates) * len(Optimizers)\n",
    "  present = 1\n",
    "  for i in Kernel_Initializers:\n",
    "    for d in Dropout_Rates:\n",
    "      for o in Optimizers:\n",
    "        model = create_model_subtask3(i, d, flattened_size=x_test.shape[1], activation_function='sigmoid', class_size=num_classes)\n",
    "        loss, acc = evaluate_subtask3(optimizerSTR=o, FCmodel=model)\n",
    "        rows.append([i,d,o,acc])\n",
    "        print(\"{}/{} models done\".format(present,numModels))\n",
    "        present += 1 \n",
    "  return rows"
   ]
  },
  {
   "cell_type": "code",
   "execution_count": 37,
   "metadata": {
    "id": "SG8YMeT7WyRV"
   },
   "outputs": [],
   "source": [
    "def advanced_hyperparameter_search(rows)->pd.DataFrame:\n",
    "  '''\n",
    "  In the same way as subtask2, create a table with columns for \n",
    "  KERNEL_INITIALIZER, DROPOUT_RATE, OPTIMIZER, and Accuracy\n",
    "  The dataframe MUST be sorted in descending order based on the accuracy like the following cell. There will be 48 rows, \n",
    "  For other parameters, use the best one you found from subtask2 function hyperparameter_ranking. \n",
    "  '''\n",
    "  columnNames = [\"KERNEL_INITIALIZER\", \"DROPOUT_RATE\", \"OPTIMIZER\", \"Accuracy\"]\n",
    "  return pd.DataFrame(rows, columns=columnNames).sort_values(by=\"Accuracy\", ascending=False, ignore_index=True)"
   ]
  },
  {
   "cell_type": "markdown",
   "metadata": {
    "id": "j24j5l2LWwA6"
   },
   "source": [
    "###**Step 5: Execution**\n"
   ]
  },
  {
   "cell_type": "code",
   "execution_count": 38,
   "metadata": {
    "id": "-xpnYwO6W5_e"
   },
   "outputs": [],
   "source": [
    "Kernel_Initializers = [\"random_uniform\", \"glorot_normal\", \"random_normal\", \"zeros\"] \n",
    "Dropout_Rates = [0, 0.2, 0.5]\n",
    "Optimizers = [\"SGD\", \"Adam\", \"RMSprop\", \"Adagrad\"]"
   ]
  },
  {
   "cell_type": "code",
   "execution_count": null,
   "metadata": {
    "id": "B6n-735_cOED"
   },
   "outputs": [],
   "source": [
    "##produce all models and evaluate them\n",
    "%%time\n",
    "subTask3_data = createModelsAndEvaluate_subtask3(Kernel_Initializers, Dropout_Rates, Optimizers, num_classes)\n",
    "save(\"subTask3_data_numpy.csv\",subTask3_data) #just in case"
   ]
  },
  {
   "cell_type": "code",
   "execution_count": 90,
   "metadata": {
    "id": "dx82qKqI8UBB"
   },
   "outputs": [],
   "source": [
    "#transmute them into a pandas dataframe and sort them, then save them\n",
    "subTask3_data = advanced_hyperparameter_search(subTask3_data3)\n",
    "subTask3_data.to_csv(\"subTask3_data.csv\")"
   ]
  },
  {
   "cell_type": "code",
   "execution_count": 67,
   "metadata": {
    "colab": {
     "base_uri": "https://localhost:8080/"
    },
    "id": "nwPIjDy74m3p",
    "outputId": "c3f27e4d-0e99-45c9-8a1a-b8f03fb5c65c"
   },
   "outputs": [
    {
     "name": "stdout",
     "output_type": "stream",
     "text": [
      "3337_Task3.ipynb   q2ACCs.csv  q5ACCs.csv  sub3.gdoc\t      Task3.gdoc\n",
      "data_subtask3.csv  q3ACCs.csv  sub1.gdoc   subTask2_data.csv\n",
      "q1ACCs.csv\t   q4ACCs.csv  sub2.gdoc   subTask3_data.csv\n"
     ]
    }
   ],
   "source": [
    "#if you've already run the above columns, just reload the data\n",
    "columnNames = [\"KERNEL_INITIALIZER\", \"DROPOUT_RATE\", \"OPTIMIZER\", \"Accuracy\"]\n",
    "subTask3_data = pd.read_csv(\"subTask3_data.csv\", names=columnNames)"
   ]
  },
  {
   "cell_type": "code",
   "execution_count": 91,
   "metadata": {
    "colab": {
     "base_uri": "https://localhost:8080/",
     "height": 204
    },
    "id": "034cjJjECswQ",
    "outputId": "2122db8b-0c73-43bd-aed4-49f263b460cb"
   },
   "outputs": [
    {
     "data": {
      "text/html": [
       "<div>\n",
       "<style scoped>\n",
       "    .dataframe tbody tr th:only-of-type {\n",
       "        vertical-align: middle;\n",
       "    }\n",
       "\n",
       "    .dataframe tbody tr th {\n",
       "        vertical-align: top;\n",
       "    }\n",
       "\n",
       "    .dataframe thead th {\n",
       "        text-align: right;\n",
       "    }\n",
       "</style>\n",
       "<table border=\"1\" class=\"dataframe\">\n",
       "  <thead>\n",
       "    <tr style=\"text-align: right;\">\n",
       "      <th></th>\n",
       "      <th>KERNEL_INITIALIZER</th>\n",
       "      <th>DROPOUT_RATE</th>\n",
       "      <th>OPTIMIZER</th>\n",
       "      <th>Accuracy</th>\n",
       "    </tr>\n",
       "  </thead>\n",
       "  <tbody>\n",
       "    <tr>\n",
       "      <th>0</th>\n",
       "      <td>random_normal</td>\n",
       "      <td>0</td>\n",
       "      <td>Adam</td>\n",
       "      <td>0.941417</td>\n",
       "    </tr>\n",
       "    <tr>\n",
       "      <th>1</th>\n",
       "      <td>glorot_normal</td>\n",
       "      <td>0</td>\n",
       "      <td>Adam</td>\n",
       "      <td>0.940083</td>\n",
       "    </tr>\n",
       "    <tr>\n",
       "      <th>2</th>\n",
       "      <td>glorot_normal</td>\n",
       "      <td>0</td>\n",
       "      <td>RMSprop</td>\n",
       "      <td>0.93925</td>\n",
       "    </tr>\n",
       "    <tr>\n",
       "      <th>3</th>\n",
       "      <td>random_uniform</td>\n",
       "      <td>0</td>\n",
       "      <td>Adam</td>\n",
       "      <td>0.937917</td>\n",
       "    </tr>\n",
       "    <tr>\n",
       "      <th>4</th>\n",
       "      <td>random_normal</td>\n",
       "      <td>0</td>\n",
       "      <td>RMSprop</td>\n",
       "      <td>0.93525</td>\n",
       "    </tr>\n",
       "  </tbody>\n",
       "</table>\n",
       "</div>"
      ],
      "text/plain": [
       "  KERNEL_INITIALIZER DROPOUT_RATE OPTIMIZER  Accuracy\n",
       "0      random_normal            0      Adam  0.941417\n",
       "1      glorot_normal            0      Adam  0.940083\n",
       "2      glorot_normal            0   RMSprop   0.93925\n",
       "3     random_uniform            0      Adam  0.937917\n",
       "4      random_normal            0   RMSprop   0.93525"
      ]
     },
     "execution_count": 91,
     "metadata": {},
     "output_type": "execute_result"
    }
   ],
   "source": [
    "subTask3_data.head()"
   ]
  },
  {
   "cell_type": "code",
   "execution_count": 92,
   "metadata": {
    "colab": {
     "base_uri": "https://localhost:8080/",
     "height": 204
    },
    "id": "g4TInWNSCyor",
    "outputId": "522ab47c-8a0e-4cfb-9239-171189f47661"
   },
   "outputs": [
    {
     "data": {
      "text/html": [
       "<div>\n",
       "<style scoped>\n",
       "    .dataframe tbody tr th:only-of-type {\n",
       "        vertical-align: middle;\n",
       "    }\n",
       "\n",
       "    .dataframe tbody tr th {\n",
       "        vertical-align: top;\n",
       "    }\n",
       "\n",
       "    .dataframe thead th {\n",
       "        text-align: right;\n",
       "    }\n",
       "</style>\n",
       "<table border=\"1\" class=\"dataframe\">\n",
       "  <thead>\n",
       "    <tr style=\"text-align: right;\">\n",
       "      <th></th>\n",
       "      <th>KERNEL_INITIALIZER</th>\n",
       "      <th>DROPOUT_RATE</th>\n",
       "      <th>OPTIMIZER</th>\n",
       "      <th>Accuracy</th>\n",
       "    </tr>\n",
       "  </thead>\n",
       "  <tbody>\n",
       "    <tr>\n",
       "      <th>43</th>\n",
       "      <td>glorot_normal</td>\n",
       "      <td>0.5</td>\n",
       "      <td>RMSprop</td>\n",
       "      <td>0.0948333</td>\n",
       "    </tr>\n",
       "    <tr>\n",
       "      <th>44</th>\n",
       "      <td>glorot_normal</td>\n",
       "      <td>0.5</td>\n",
       "      <td>Adam</td>\n",
       "      <td>0.0948333</td>\n",
       "    </tr>\n",
       "    <tr>\n",
       "      <th>45</th>\n",
       "      <td>glorot_normal</td>\n",
       "      <td>0.5</td>\n",
       "      <td>SGD</td>\n",
       "      <td>0.0948333</td>\n",
       "    </tr>\n",
       "    <tr>\n",
       "      <th>46</th>\n",
       "      <td>random_uniform</td>\n",
       "      <td>0.5</td>\n",
       "      <td>RMSprop</td>\n",
       "      <td>0.0948333</td>\n",
       "    </tr>\n",
       "    <tr>\n",
       "      <th>47</th>\n",
       "      <td>zeros</td>\n",
       "      <td>0.5</td>\n",
       "      <td>Adagrad</td>\n",
       "      <td>0.0948333</td>\n",
       "    </tr>\n",
       "  </tbody>\n",
       "</table>\n",
       "</div>"
      ],
      "text/plain": [
       "   KERNEL_INITIALIZER DROPOUT_RATE OPTIMIZER   Accuracy\n",
       "43      glorot_normal          0.5   RMSprop  0.0948333\n",
       "44      glorot_normal          0.5      Adam  0.0948333\n",
       "45      glorot_normal          0.5       SGD  0.0948333\n",
       "46     random_uniform          0.5   RMSprop  0.0948333\n",
       "47              zeros          0.5   Adagrad  0.0948333"
      ]
     },
     "execution_count": 92,
     "metadata": {},
     "output_type": "execute_result"
    }
   ],
   "source": [
    "subTask3_data.tail()"
   ]
  },
  {
   "cell_type": "code",
   "execution_count": 93,
   "metadata": {
    "colab": {
     "base_uri": "https://localhost:8080/",
     "height": 1000
    },
    "id": "MjS9xOL6C6Ct",
    "outputId": "a7759ad5-055c-450a-b340-dba887e291bc"
   },
   "outputs": [
    {
     "data": {
      "text/html": [
       "<div>\n",
       "<style scoped>\n",
       "    .dataframe tbody tr th:only-of-type {\n",
       "        vertical-align: middle;\n",
       "    }\n",
       "\n",
       "    .dataframe tbody tr th {\n",
       "        vertical-align: top;\n",
       "    }\n",
       "\n",
       "    .dataframe thead th {\n",
       "        text-align: right;\n",
       "    }\n",
       "</style>\n",
       "<table border=\"1\" class=\"dataframe\">\n",
       "  <thead>\n",
       "    <tr style=\"text-align: right;\">\n",
       "      <th></th>\n",
       "      <th>KERNEL_INITIALIZER</th>\n",
       "      <th>DROPOUT_RATE</th>\n",
       "      <th>OPTIMIZER</th>\n",
       "      <th>Accuracy</th>\n",
       "    </tr>\n",
       "  </thead>\n",
       "  <tbody>\n",
       "    <tr>\n",
       "      <th>0</th>\n",
       "      <td>random_normal</td>\n",
       "      <td>0</td>\n",
       "      <td>Adam</td>\n",
       "      <td>0.941417</td>\n",
       "    </tr>\n",
       "    <tr>\n",
       "      <th>1</th>\n",
       "      <td>glorot_normal</td>\n",
       "      <td>0</td>\n",
       "      <td>Adam</td>\n",
       "      <td>0.940083</td>\n",
       "    </tr>\n",
       "    <tr>\n",
       "      <th>2</th>\n",
       "      <td>glorot_normal</td>\n",
       "      <td>0</td>\n",
       "      <td>RMSprop</td>\n",
       "      <td>0.93925</td>\n",
       "    </tr>\n",
       "    <tr>\n",
       "      <th>3</th>\n",
       "      <td>random_uniform</td>\n",
       "      <td>0</td>\n",
       "      <td>Adam</td>\n",
       "      <td>0.937917</td>\n",
       "    </tr>\n",
       "    <tr>\n",
       "      <th>4</th>\n",
       "      <td>random_normal</td>\n",
       "      <td>0</td>\n",
       "      <td>RMSprop</td>\n",
       "      <td>0.93525</td>\n",
       "    </tr>\n",
       "    <tr>\n",
       "      <th>5</th>\n",
       "      <td>random_uniform</td>\n",
       "      <td>0.2</td>\n",
       "      <td>RMSprop</td>\n",
       "      <td>0.934417</td>\n",
       "    </tr>\n",
       "    <tr>\n",
       "      <th>6</th>\n",
       "      <td>random_uniform</td>\n",
       "      <td>0</td>\n",
       "      <td>RMSprop</td>\n",
       "      <td>0.932917</td>\n",
       "    </tr>\n",
       "    <tr>\n",
       "      <th>7</th>\n",
       "      <td>glorot_normal</td>\n",
       "      <td>0</td>\n",
       "      <td>SGD</td>\n",
       "      <td>0.931833</td>\n",
       "    </tr>\n",
       "    <tr>\n",
       "      <th>8</th>\n",
       "      <td>glorot_normal</td>\n",
       "      <td>0.2</td>\n",
       "      <td>RMSprop</td>\n",
       "      <td>0.931</td>\n",
       "    </tr>\n",
       "    <tr>\n",
       "      <th>9</th>\n",
       "      <td>random_uniform</td>\n",
       "      <td>0.2</td>\n",
       "      <td>Adam</td>\n",
       "      <td>0.930667</td>\n",
       "    </tr>\n",
       "    <tr>\n",
       "      <th>10</th>\n",
       "      <td>glorot_normal</td>\n",
       "      <td>0.2</td>\n",
       "      <td>Adam</td>\n",
       "      <td>0.9305</td>\n",
       "    </tr>\n",
       "    <tr>\n",
       "      <th>11</th>\n",
       "      <td>random_normal</td>\n",
       "      <td>0.2</td>\n",
       "      <td>RMSprop</td>\n",
       "      <td>0.929917</td>\n",
       "    </tr>\n",
       "    <tr>\n",
       "      <th>12</th>\n",
       "      <td>random_normal</td>\n",
       "      <td>0.2</td>\n",
       "      <td>Adam</td>\n",
       "      <td>0.929833</td>\n",
       "    </tr>\n",
       "    <tr>\n",
       "      <th>13</th>\n",
       "      <td>glorot_normal</td>\n",
       "      <td>0.2</td>\n",
       "      <td>SGD</td>\n",
       "      <td>0.922833</td>\n",
       "    </tr>\n",
       "    <tr>\n",
       "      <th>14</th>\n",
       "      <td>random_normal</td>\n",
       "      <td>0</td>\n",
       "      <td>SGD</td>\n",
       "      <td>0.921417</td>\n",
       "    </tr>\n",
       "    <tr>\n",
       "      <th>15</th>\n",
       "      <td>random_uniform</td>\n",
       "      <td>0</td>\n",
       "      <td>SGD</td>\n",
       "      <td>0.917083</td>\n",
       "    </tr>\n",
       "    <tr>\n",
       "      <th>16</th>\n",
       "      <td>random_normal</td>\n",
       "      <td>0.2</td>\n",
       "      <td>SGD</td>\n",
       "      <td>0.90775</td>\n",
       "    </tr>\n",
       "    <tr>\n",
       "      <th>17</th>\n",
       "      <td>random_uniform</td>\n",
       "      <td>0.2</td>\n",
       "      <td>SGD</td>\n",
       "      <td>0.904333</td>\n",
       "    </tr>\n",
       "    <tr>\n",
       "      <th>18</th>\n",
       "      <td>glorot_normal</td>\n",
       "      <td>0</td>\n",
       "      <td>Adagrad</td>\n",
       "      <td>0.869</td>\n",
       "    </tr>\n",
       "    <tr>\n",
       "      <th>19</th>\n",
       "      <td>glorot_normal</td>\n",
       "      <td>0.2</td>\n",
       "      <td>Adagrad</td>\n",
       "      <td>0.861667</td>\n",
       "    </tr>\n",
       "    <tr>\n",
       "      <th>20</th>\n",
       "      <td>random_uniform</td>\n",
       "      <td>0</td>\n",
       "      <td>Adagrad</td>\n",
       "      <td>0.852583</td>\n",
       "    </tr>\n",
       "    <tr>\n",
       "      <th>21</th>\n",
       "      <td>random_normal</td>\n",
       "      <td>0</td>\n",
       "      <td>Adagrad</td>\n",
       "      <td>0.837</td>\n",
       "    </tr>\n",
       "    <tr>\n",
       "      <th>22</th>\n",
       "      <td>random_uniform</td>\n",
       "      <td>0.2</td>\n",
       "      <td>Adagrad</td>\n",
       "      <td>0.835083</td>\n",
       "    </tr>\n",
       "    <tr>\n",
       "      <th>23</th>\n",
       "      <td>random_normal</td>\n",
       "      <td>0.2</td>\n",
       "      <td>Adagrad</td>\n",
       "      <td>0.818833</td>\n",
       "    </tr>\n",
       "    <tr>\n",
       "      <th>24</th>\n",
       "      <td>zeros</td>\n",
       "      <td>0.2</td>\n",
       "      <td>RMSprop</td>\n",
       "      <td>0.214</td>\n",
       "    </tr>\n",
       "    <tr>\n",
       "      <th>25</th>\n",
       "      <td>zeros</td>\n",
       "      <td>0</td>\n",
       "      <td>Adam</td>\n",
       "      <td>0.213583</td>\n",
       "    </tr>\n",
       "    <tr>\n",
       "      <th>26</th>\n",
       "      <td>zeros</td>\n",
       "      <td>0</td>\n",
       "      <td>RMSprop</td>\n",
       "      <td>0.21175</td>\n",
       "    </tr>\n",
       "    <tr>\n",
       "      <th>27</th>\n",
       "      <td>zeros</td>\n",
       "      <td>0</td>\n",
       "      <td>Adagrad</td>\n",
       "      <td>0.211417</td>\n",
       "    </tr>\n",
       "    <tr>\n",
       "      <th>28</th>\n",
       "      <td>zeros</td>\n",
       "      <td>0.2</td>\n",
       "      <td>SGD</td>\n",
       "      <td>0.209833</td>\n",
       "    </tr>\n",
       "    <tr>\n",
       "      <th>29</th>\n",
       "      <td>zeros</td>\n",
       "      <td>0</td>\n",
       "      <td>SGD</td>\n",
       "      <td>0.20475</td>\n",
       "    </tr>\n",
       "    <tr>\n",
       "      <th>30</th>\n",
       "      <td>zeros</td>\n",
       "      <td>0.2</td>\n",
       "      <td>Adagrad</td>\n",
       "      <td>0.203167</td>\n",
       "    </tr>\n",
       "    <tr>\n",
       "      <th>31</th>\n",
       "      <td>zeros</td>\n",
       "      <td>0.2</td>\n",
       "      <td>Adam</td>\n",
       "      <td>0.113417</td>\n",
       "    </tr>\n",
       "    <tr>\n",
       "      <th>32</th>\n",
       "      <td>zeros</td>\n",
       "      <td>0.5</td>\n",
       "      <td>SGD</td>\n",
       "      <td>0.0948333</td>\n",
       "    </tr>\n",
       "    <tr>\n",
       "      <th>33</th>\n",
       "      <td>zeros</td>\n",
       "      <td>0.5</td>\n",
       "      <td>Adam</td>\n",
       "      <td>0.0948333</td>\n",
       "    </tr>\n",
       "    <tr>\n",
       "      <th>34</th>\n",
       "      <td>zeros</td>\n",
       "      <td>0.5</td>\n",
       "      <td>RMSprop</td>\n",
       "      <td>0.0948333</td>\n",
       "    </tr>\n",
       "    <tr>\n",
       "      <th>35</th>\n",
       "      <td>random_normal</td>\n",
       "      <td>0.5</td>\n",
       "      <td>SGD</td>\n",
       "      <td>0.0948333</td>\n",
       "    </tr>\n",
       "    <tr>\n",
       "      <th>36</th>\n",
       "      <td>random_normal</td>\n",
       "      <td>0.5</td>\n",
       "      <td>Adagrad</td>\n",
       "      <td>0.0948333</td>\n",
       "    </tr>\n",
       "    <tr>\n",
       "      <th>37</th>\n",
       "      <td>random_normal</td>\n",
       "      <td>0.5</td>\n",
       "      <td>RMSprop</td>\n",
       "      <td>0.0948333</td>\n",
       "    </tr>\n",
       "    <tr>\n",
       "      <th>38</th>\n",
       "      <td>random_normal</td>\n",
       "      <td>0.5</td>\n",
       "      <td>Adam</td>\n",
       "      <td>0.0948333</td>\n",
       "    </tr>\n",
       "    <tr>\n",
       "      <th>39</th>\n",
       "      <td>random_uniform</td>\n",
       "      <td>0.5</td>\n",
       "      <td>Adagrad</td>\n",
       "      <td>0.0948333</td>\n",
       "    </tr>\n",
       "    <tr>\n",
       "      <th>40</th>\n",
       "      <td>random_uniform</td>\n",
       "      <td>0.5</td>\n",
       "      <td>SGD</td>\n",
       "      <td>0.0948333</td>\n",
       "    </tr>\n",
       "    <tr>\n",
       "      <th>41</th>\n",
       "      <td>random_uniform</td>\n",
       "      <td>0.5</td>\n",
       "      <td>Adam</td>\n",
       "      <td>0.0948333</td>\n",
       "    </tr>\n",
       "    <tr>\n",
       "      <th>42</th>\n",
       "      <td>glorot_normal</td>\n",
       "      <td>0.5</td>\n",
       "      <td>Adagrad</td>\n",
       "      <td>0.0948333</td>\n",
       "    </tr>\n",
       "    <tr>\n",
       "      <th>43</th>\n",
       "      <td>glorot_normal</td>\n",
       "      <td>0.5</td>\n",
       "      <td>RMSprop</td>\n",
       "      <td>0.0948333</td>\n",
       "    </tr>\n",
       "    <tr>\n",
       "      <th>44</th>\n",
       "      <td>glorot_normal</td>\n",
       "      <td>0.5</td>\n",
       "      <td>Adam</td>\n",
       "      <td>0.0948333</td>\n",
       "    </tr>\n",
       "    <tr>\n",
       "      <th>45</th>\n",
       "      <td>glorot_normal</td>\n",
       "      <td>0.5</td>\n",
       "      <td>SGD</td>\n",
       "      <td>0.0948333</td>\n",
       "    </tr>\n",
       "    <tr>\n",
       "      <th>46</th>\n",
       "      <td>random_uniform</td>\n",
       "      <td>0.5</td>\n",
       "      <td>RMSprop</td>\n",
       "      <td>0.0948333</td>\n",
       "    </tr>\n",
       "    <tr>\n",
       "      <th>47</th>\n",
       "      <td>zeros</td>\n",
       "      <td>0.5</td>\n",
       "      <td>Adagrad</td>\n",
       "      <td>0.0948333</td>\n",
       "    </tr>\n",
       "  </tbody>\n",
       "</table>\n",
       "</div>"
      ],
      "text/plain": [
       "   KERNEL_INITIALIZER DROPOUT_RATE OPTIMIZER   Accuracy\n",
       "0       random_normal            0      Adam   0.941417\n",
       "1       glorot_normal            0      Adam   0.940083\n",
       "2       glorot_normal            0   RMSprop    0.93925\n",
       "3      random_uniform            0      Adam   0.937917\n",
       "4       random_normal            0   RMSprop    0.93525\n",
       "5      random_uniform          0.2   RMSprop   0.934417\n",
       "6      random_uniform            0   RMSprop   0.932917\n",
       "7       glorot_normal            0       SGD   0.931833\n",
       "8       glorot_normal          0.2   RMSprop      0.931\n",
       "9      random_uniform          0.2      Adam   0.930667\n",
       "10      glorot_normal          0.2      Adam     0.9305\n",
       "11      random_normal          0.2   RMSprop   0.929917\n",
       "12      random_normal          0.2      Adam   0.929833\n",
       "13      glorot_normal          0.2       SGD   0.922833\n",
       "14      random_normal            0       SGD   0.921417\n",
       "15     random_uniform            0       SGD   0.917083\n",
       "16      random_normal          0.2       SGD    0.90775\n",
       "17     random_uniform          0.2       SGD   0.904333\n",
       "18      glorot_normal            0   Adagrad      0.869\n",
       "19      glorot_normal          0.2   Adagrad   0.861667\n",
       "20     random_uniform            0   Adagrad   0.852583\n",
       "21      random_normal            0   Adagrad      0.837\n",
       "22     random_uniform          0.2   Adagrad   0.835083\n",
       "23      random_normal          0.2   Adagrad   0.818833\n",
       "24              zeros          0.2   RMSprop      0.214\n",
       "25              zeros            0      Adam   0.213583\n",
       "26              zeros            0   RMSprop    0.21175\n",
       "27              zeros            0   Adagrad   0.211417\n",
       "28              zeros          0.2       SGD   0.209833\n",
       "29              zeros            0       SGD    0.20475\n",
       "30              zeros          0.2   Adagrad   0.203167\n",
       "31              zeros          0.2      Adam   0.113417\n",
       "32              zeros          0.5       SGD  0.0948333\n",
       "33              zeros          0.5      Adam  0.0948333\n",
       "34              zeros          0.5   RMSprop  0.0948333\n",
       "35      random_normal          0.5       SGD  0.0948333\n",
       "36      random_normal          0.5   Adagrad  0.0948333\n",
       "37      random_normal          0.5   RMSprop  0.0948333\n",
       "38      random_normal          0.5      Adam  0.0948333\n",
       "39     random_uniform          0.5   Adagrad  0.0948333\n",
       "40     random_uniform          0.5       SGD  0.0948333\n",
       "41     random_uniform          0.5      Adam  0.0948333\n",
       "42      glorot_normal          0.5   Adagrad  0.0948333\n",
       "43      glorot_normal          0.5   RMSprop  0.0948333\n",
       "44      glorot_normal          0.5      Adam  0.0948333\n",
       "45      glorot_normal          0.5       SGD  0.0948333\n",
       "46     random_uniform          0.5   RMSprop  0.0948333\n",
       "47              zeros          0.5   Adagrad  0.0948333"
      ]
     },
     "execution_count": 93,
     "metadata": {},
     "output_type": "execute_result"
    }
   ],
   "source": [
    "subTask3_data"
   ]
  },
  {
   "cell_type": "code",
   "execution_count": 95,
   "metadata": {
    "colab": {
     "base_uri": "https://localhost:8080/",
     "height": 421
    },
    "id": "2LPjuO1ZFgrN",
    "outputId": "7b354729-04cb-453b-87f3-9a323e49c334"
   },
   "outputs": [
    {
     "data": {
      "text/html": [
       "<div>\n",
       "<style scoped>\n",
       "    .dataframe tbody tr th:only-of-type {\n",
       "        vertical-align: middle;\n",
       "    }\n",
       "\n",
       "    .dataframe tbody tr th {\n",
       "        vertical-align: top;\n",
       "    }\n",
       "\n",
       "    .dataframe thead th {\n",
       "        text-align: right;\n",
       "    }\n",
       "</style>\n",
       "<table border=\"1\" class=\"dataframe\">\n",
       "  <thead>\n",
       "    <tr style=\"text-align: right;\">\n",
       "      <th></th>\n",
       "      <th>KERNEL_INITIALIZER</th>\n",
       "      <th>DROPOUT_RATE</th>\n",
       "      <th>OPTIMIZER</th>\n",
       "      <th>Accuracy</th>\n",
       "    </tr>\n",
       "  </thead>\n",
       "  <tbody>\n",
       "    <tr>\n",
       "      <th>24</th>\n",
       "      <td>zeros</td>\n",
       "      <td>0.2</td>\n",
       "      <td>RMSprop</td>\n",
       "      <td>0.214</td>\n",
       "    </tr>\n",
       "    <tr>\n",
       "      <th>25</th>\n",
       "      <td>zeros</td>\n",
       "      <td>0</td>\n",
       "      <td>Adam</td>\n",
       "      <td>0.213583</td>\n",
       "    </tr>\n",
       "    <tr>\n",
       "      <th>26</th>\n",
       "      <td>zeros</td>\n",
       "      <td>0</td>\n",
       "      <td>RMSprop</td>\n",
       "      <td>0.21175</td>\n",
       "    </tr>\n",
       "    <tr>\n",
       "      <th>27</th>\n",
       "      <td>zeros</td>\n",
       "      <td>0</td>\n",
       "      <td>Adagrad</td>\n",
       "      <td>0.211417</td>\n",
       "    </tr>\n",
       "    <tr>\n",
       "      <th>28</th>\n",
       "      <td>zeros</td>\n",
       "      <td>0.2</td>\n",
       "      <td>SGD</td>\n",
       "      <td>0.209833</td>\n",
       "    </tr>\n",
       "    <tr>\n",
       "      <th>29</th>\n",
       "      <td>zeros</td>\n",
       "      <td>0</td>\n",
       "      <td>SGD</td>\n",
       "      <td>0.20475</td>\n",
       "    </tr>\n",
       "    <tr>\n",
       "      <th>30</th>\n",
       "      <td>zeros</td>\n",
       "      <td>0.2</td>\n",
       "      <td>Adagrad</td>\n",
       "      <td>0.203167</td>\n",
       "    </tr>\n",
       "    <tr>\n",
       "      <th>31</th>\n",
       "      <td>zeros</td>\n",
       "      <td>0.2</td>\n",
       "      <td>Adam</td>\n",
       "      <td>0.113417</td>\n",
       "    </tr>\n",
       "    <tr>\n",
       "      <th>32</th>\n",
       "      <td>zeros</td>\n",
       "      <td>0.5</td>\n",
       "      <td>SGD</td>\n",
       "      <td>0.0948333</td>\n",
       "    </tr>\n",
       "    <tr>\n",
       "      <th>33</th>\n",
       "      <td>zeros</td>\n",
       "      <td>0.5</td>\n",
       "      <td>Adam</td>\n",
       "      <td>0.0948333</td>\n",
       "    </tr>\n",
       "    <tr>\n",
       "      <th>34</th>\n",
       "      <td>zeros</td>\n",
       "      <td>0.5</td>\n",
       "      <td>RMSprop</td>\n",
       "      <td>0.0948333</td>\n",
       "    </tr>\n",
       "    <tr>\n",
       "      <th>47</th>\n",
       "      <td>zeros</td>\n",
       "      <td>0.5</td>\n",
       "      <td>Adagrad</td>\n",
       "      <td>0.0948333</td>\n",
       "    </tr>\n",
       "  </tbody>\n",
       "</table>\n",
       "</div>"
      ],
      "text/plain": [
       "   KERNEL_INITIALIZER DROPOUT_RATE OPTIMIZER   Accuracy\n",
       "24              zeros          0.2   RMSprop      0.214\n",
       "25              zeros            0      Adam   0.213583\n",
       "26              zeros            0   RMSprop    0.21175\n",
       "27              zeros            0   Adagrad   0.211417\n",
       "28              zeros          0.2       SGD   0.209833\n",
       "29              zeros            0       SGD    0.20475\n",
       "30              zeros          0.2   Adagrad   0.203167\n",
       "31              zeros          0.2      Adam   0.113417\n",
       "32              zeros          0.5       SGD  0.0948333\n",
       "33              zeros          0.5      Adam  0.0948333\n",
       "34              zeros          0.5   RMSprop  0.0948333\n",
       "47              zeros          0.5   Adagrad  0.0948333"
      ]
     },
     "execution_count": 95,
     "metadata": {},
     "output_type": "execute_result"
    }
   ],
   "source": [
    "subTask3_data.query(\"KERNEL_INITIALIZER == 'zeros'\")"
   ]
  },
  {
   "cell_type": "code",
   "execution_count": 100,
   "metadata": {
    "colab": {
     "base_uri": "https://localhost:8080/",
     "height": 793
    },
    "id": "fLg2ExF5IHiE",
    "outputId": "c5ce6f49-efa0-42f7-9441-850dd8c90003"
   },
   "outputs": [
    {
     "data": {
      "text/html": [
       "<div>\n",
       "<style scoped>\n",
       "    .dataframe tbody tr th:only-of-type {\n",
       "        vertical-align: middle;\n",
       "    }\n",
       "\n",
       "    .dataframe tbody tr th {\n",
       "        vertical-align: top;\n",
       "    }\n",
       "\n",
       "    .dataframe thead th {\n",
       "        text-align: right;\n",
       "    }\n",
       "</style>\n",
       "<table border=\"1\" class=\"dataframe\">\n",
       "  <thead>\n",
       "    <tr style=\"text-align: right;\">\n",
       "      <th></th>\n",
       "      <th>KERNEL_INITIALIZER</th>\n",
       "      <th>DROPOUT_RATE</th>\n",
       "      <th>OPTIMIZER</th>\n",
       "      <th>Accuracy</th>\n",
       "    </tr>\n",
       "  </thead>\n",
       "  <tbody>\n",
       "    <tr>\n",
       "      <th>0</th>\n",
       "      <td>random_normal</td>\n",
       "      <td>0</td>\n",
       "      <td>Adam</td>\n",
       "      <td>0.941417</td>\n",
       "    </tr>\n",
       "    <tr>\n",
       "      <th>1</th>\n",
       "      <td>glorot_normal</td>\n",
       "      <td>0</td>\n",
       "      <td>Adam</td>\n",
       "      <td>0.940083</td>\n",
       "    </tr>\n",
       "    <tr>\n",
       "      <th>2</th>\n",
       "      <td>glorot_normal</td>\n",
       "      <td>0</td>\n",
       "      <td>RMSprop</td>\n",
       "      <td>0.93925</td>\n",
       "    </tr>\n",
       "    <tr>\n",
       "      <th>3</th>\n",
       "      <td>random_uniform</td>\n",
       "      <td>0</td>\n",
       "      <td>Adam</td>\n",
       "      <td>0.937917</td>\n",
       "    </tr>\n",
       "    <tr>\n",
       "      <th>4</th>\n",
       "      <td>random_normal</td>\n",
       "      <td>0</td>\n",
       "      <td>RMSprop</td>\n",
       "      <td>0.93525</td>\n",
       "    </tr>\n",
       "    <tr>\n",
       "      <th>5</th>\n",
       "      <td>random_uniform</td>\n",
       "      <td>0.2</td>\n",
       "      <td>RMSprop</td>\n",
       "      <td>0.934417</td>\n",
       "    </tr>\n",
       "    <tr>\n",
       "      <th>6</th>\n",
       "      <td>random_uniform</td>\n",
       "      <td>0</td>\n",
       "      <td>RMSprop</td>\n",
       "      <td>0.932917</td>\n",
       "    </tr>\n",
       "    <tr>\n",
       "      <th>7</th>\n",
       "      <td>glorot_normal</td>\n",
       "      <td>0</td>\n",
       "      <td>SGD</td>\n",
       "      <td>0.931833</td>\n",
       "    </tr>\n",
       "    <tr>\n",
       "      <th>8</th>\n",
       "      <td>glorot_normal</td>\n",
       "      <td>0.2</td>\n",
       "      <td>RMSprop</td>\n",
       "      <td>0.931</td>\n",
       "    </tr>\n",
       "    <tr>\n",
       "      <th>9</th>\n",
       "      <td>random_uniform</td>\n",
       "      <td>0.2</td>\n",
       "      <td>Adam</td>\n",
       "      <td>0.930667</td>\n",
       "    </tr>\n",
       "    <tr>\n",
       "      <th>10</th>\n",
       "      <td>glorot_normal</td>\n",
       "      <td>0.2</td>\n",
       "      <td>Adam</td>\n",
       "      <td>0.9305</td>\n",
       "    </tr>\n",
       "    <tr>\n",
       "      <th>11</th>\n",
       "      <td>random_normal</td>\n",
       "      <td>0.2</td>\n",
       "      <td>RMSprop</td>\n",
       "      <td>0.929917</td>\n",
       "    </tr>\n",
       "    <tr>\n",
       "      <th>12</th>\n",
       "      <td>random_normal</td>\n",
       "      <td>0.2</td>\n",
       "      <td>Adam</td>\n",
       "      <td>0.929833</td>\n",
       "    </tr>\n",
       "    <tr>\n",
       "      <th>13</th>\n",
       "      <td>glorot_normal</td>\n",
       "      <td>0.2</td>\n",
       "      <td>SGD</td>\n",
       "      <td>0.922833</td>\n",
       "    </tr>\n",
       "    <tr>\n",
       "      <th>14</th>\n",
       "      <td>random_normal</td>\n",
       "      <td>0</td>\n",
       "      <td>SGD</td>\n",
       "      <td>0.921417</td>\n",
       "    </tr>\n",
       "    <tr>\n",
       "      <th>15</th>\n",
       "      <td>random_uniform</td>\n",
       "      <td>0</td>\n",
       "      <td>SGD</td>\n",
       "      <td>0.917083</td>\n",
       "    </tr>\n",
       "    <tr>\n",
       "      <th>16</th>\n",
       "      <td>random_normal</td>\n",
       "      <td>0.2</td>\n",
       "      <td>SGD</td>\n",
       "      <td>0.90775</td>\n",
       "    </tr>\n",
       "    <tr>\n",
       "      <th>17</th>\n",
       "      <td>random_uniform</td>\n",
       "      <td>0.2</td>\n",
       "      <td>SGD</td>\n",
       "      <td>0.904333</td>\n",
       "    </tr>\n",
       "    <tr>\n",
       "      <th>18</th>\n",
       "      <td>glorot_normal</td>\n",
       "      <td>0</td>\n",
       "      <td>Adagrad</td>\n",
       "      <td>0.869</td>\n",
       "    </tr>\n",
       "    <tr>\n",
       "      <th>19</th>\n",
       "      <td>glorot_normal</td>\n",
       "      <td>0.2</td>\n",
       "      <td>Adagrad</td>\n",
       "      <td>0.861667</td>\n",
       "    </tr>\n",
       "    <tr>\n",
       "      <th>20</th>\n",
       "      <td>random_uniform</td>\n",
       "      <td>0</td>\n",
       "      <td>Adagrad</td>\n",
       "      <td>0.852583</td>\n",
       "    </tr>\n",
       "    <tr>\n",
       "      <th>21</th>\n",
       "      <td>random_normal</td>\n",
       "      <td>0</td>\n",
       "      <td>Adagrad</td>\n",
       "      <td>0.837</td>\n",
       "    </tr>\n",
       "    <tr>\n",
       "      <th>22</th>\n",
       "      <td>random_uniform</td>\n",
       "      <td>0.2</td>\n",
       "      <td>Adagrad</td>\n",
       "      <td>0.835083</td>\n",
       "    </tr>\n",
       "    <tr>\n",
       "      <th>23</th>\n",
       "      <td>random_normal</td>\n",
       "      <td>0.2</td>\n",
       "      <td>Adagrad</td>\n",
       "      <td>0.818833</td>\n",
       "    </tr>\n",
       "  </tbody>\n",
       "</table>\n",
       "</div>"
      ],
      "text/plain": [
       "   KERNEL_INITIALIZER DROPOUT_RATE OPTIMIZER  Accuracy\n",
       "0       random_normal            0      Adam  0.941417\n",
       "1       glorot_normal            0      Adam  0.940083\n",
       "2       glorot_normal            0   RMSprop   0.93925\n",
       "3      random_uniform            0      Adam  0.937917\n",
       "4       random_normal            0   RMSprop   0.93525\n",
       "5      random_uniform          0.2   RMSprop  0.934417\n",
       "6      random_uniform            0   RMSprop  0.932917\n",
       "7       glorot_normal            0       SGD  0.931833\n",
       "8       glorot_normal          0.2   RMSprop     0.931\n",
       "9      random_uniform          0.2      Adam  0.930667\n",
       "10      glorot_normal          0.2      Adam    0.9305\n",
       "11      random_normal          0.2   RMSprop  0.929917\n",
       "12      random_normal          0.2      Adam  0.929833\n",
       "13      glorot_normal          0.2       SGD  0.922833\n",
       "14      random_normal            0       SGD  0.921417\n",
       "15     random_uniform            0       SGD  0.917083\n",
       "16      random_normal          0.2       SGD   0.90775\n",
       "17     random_uniform          0.2       SGD  0.904333\n",
       "18      glorot_normal            0   Adagrad     0.869\n",
       "19      glorot_normal          0.2   Adagrad  0.861667\n",
       "20     random_uniform            0   Adagrad  0.852583\n",
       "21      random_normal            0   Adagrad     0.837\n",
       "22     random_uniform          0.2   Adagrad  0.835083\n",
       "23      random_normal          0.2   Adagrad  0.818833"
      ]
     },
     "execution_count": 100,
     "metadata": {},
     "output_type": "execute_result"
    }
   ],
   "source": [
    "subTask3_data.query(\"KERNEL_INITIALIZER != 'zeros' and DROPOUT_RATE != 0.5\")"
   ]
  }
 ],
 "metadata": {
  "colab": {
   "name": "3337_Task3.ipynb",
   "provenance": []
  },
  "kernelspec": {
   "display_name": "Python 3",
   "language": "python",
   "name": "python3"
  },
  "language_info": {
   "codemirror_mode": {
    "name": "ipython",
    "version": 3
   },
   "file_extension": ".py",
   "mimetype": "text/x-python",
   "name": "python",
   "nbconvert_exporter": "python",
   "pygments_lexer": "ipython3",
   "version": "3.8.8"
  }
 },
 "nbformat": 4,
 "nbformat_minor": 1
}
